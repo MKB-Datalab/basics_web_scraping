{
 "cells": [
  {
   "cell_type": "markdown",
   "metadata": {
    "toc": true
   },
   "source": [
    "<h1>Table of Contents<span class=\"tocSkip\"></span></h1>\n",
    "<div class=\"toc\"><ul class=\"toc-item\"><li><span><a href=\"#Introduction\" data-toc-modified-id=\"Introduction-1\"><span class=\"toc-item-num\">1&nbsp;&nbsp;</span>Introduction</a></span></li><li><span><a href=\"#📽️Web-Scraping-Information-about-James-Bond's-Movies\" data-toc-modified-id=\"📽️Web-Scraping-Information-about-James-Bond's-Movies-2\"><span class=\"toc-item-num\">2&nbsp;&nbsp;</span>📽️Web Scraping Information about James Bond's Movies</a></span><ul class=\"toc-item\"><li><span><a href=\"#Step-1:-Inspecting-website\" data-toc-modified-id=\"Step-1:-Inspecting-website-2.1\"><span class=\"toc-item-num\">2.1&nbsp;&nbsp;</span>Step 1: Inspecting website</a></span></li><li><span><a href=\"#Step-2:-Access-Content-of-Website\" data-toc-modified-id=\"Step-2:-Access-Content-of-Website-2.2\"><span class=\"toc-item-num\">2.2&nbsp;&nbsp;</span>Step 2: Access Content of Website</a></span><ul class=\"toc-item\"><li><span><a href=\"#Extracting-Information-from-Website\" data-toc-modified-id=\"Extracting-Information-from-Website-2.2.1\"><span class=\"toc-item-num\">2.2.1&nbsp;&nbsp;</span>Extracting Information from Website</a></span></li><li><span><a href=\"#Extracting-info-from-Table\" data-toc-modified-id=\"Extracting-info-from-Table-2.2.2\"><span class=\"toc-item-num\">2.2.2&nbsp;&nbsp;</span>Extracting info from Table</a></span></li></ul></li></ul></li><li><span><a href=\"#🎶-Web-Scraping-Information-about-James-Bond's-Theme-Songs\" data-toc-modified-id=\"🎶-Web-Scraping-Information-about-James-Bond's-Theme-Songs-3\"><span class=\"toc-item-num\">3&nbsp;&nbsp;</span>🎶 Web Scraping Information about James Bond's Theme Songs</a></span></li><li><span><a href=\"#🎶-Web-Scraping-Lyrics:-How-to-Access-Information-within-Hyperlinks\" data-toc-modified-id=\"🎶-Web-Scraping-Lyrics:-How-to-Access-Information-within-Hyperlinks-4\"><span class=\"toc-item-num\">4&nbsp;&nbsp;</span>🎶 Web Scraping Lyrics: How to Access Information within Hyperlinks</a></span></li><li><span><a href=\"#Conclusions\" data-toc-modified-id=\"Conclusions-5\"><span class=\"toc-item-num\">5&nbsp;&nbsp;</span>Conclusions</a></span></li></ul></div>"
   ]
  },
  {
   "cell_type": "markdown",
   "metadata": {},
   "source": [
    "# Introduction\n",
    "\n",
    "As William Edwards Deming said \"In God we trust; all others bring data.\", so bring us data. \n",
    "\n",
    "When data is not available through datasets or APIs, `web scraping` may be our last resource. It allows retrieving and parsing data stored on web pages across the Internet. It not only allows us to retrieve data when we don't have it but also give us the opportunity to acquire additional data that might give that extra boost to our model. Therefore, obtaining data through `web scraping` is a valuable skill for any data scientist.\n",
    "\n",
    "From a **business point of view**, web scraping helps us make informed business decisions. It provides an opportunity to:\n",
    "\n",
    "* Know better our competitors, their prices, services,\n",
    "* Know our customers, their behavior, their needs, what they think of product(s)/service(s),\n",
    "* Stay well informed about partners,\n",
    "* Gather public opinion about a company in general, as well as of its or similar product(s)/service(s),\n",
    "* Obtain contact or other information of potential clients via social media and forums, so meaningfully resources can be directed towards this group of possible customers.\n",
    "\n",
    "and the list goes on…\n",
    "\n",
    "Also, for **public/governmental organizations** web scraping can be very helpful. It might help gathering information from websites of different cities within a region about an important subject such as health, security, or environment. This data that sometimes are not easily collected across city agencies might be published by them online. Therefore, this gives an opportunity to collect and analyze the data in order to extract beneficial insights to society.\n",
    "\n",
    "In addition, data obtained via web scraping can be used for **personal purposes** and for fun! For instances, it can help you find your new home, a new recipe, material for your hobby, or information about your favorite subject, artist, movie, music…. again, imagination is the limit.\n",
    "\n",
    "Then after scraping your data, it is time to analyze and manipulate it using tools such as `pandas` and `NumPy`.\n",
    "\n",
    "Here, to illustrate the use of web scraping we've chosen a subject that probably will please everybody (or most of you): Movies and Music! On top of it we will be an opportunity to pay our respect to the first James Bond, [Sir Thomas Sean Connery](https://www.imdb.com/name/nm0000125/bio) that left us October 31, 2020.\n",
    "\n",
    "Our goal is to collect information about movies of the James Bond franchise and their theme songs. For this, the following steps are taken:\n",
    "\n",
    "📽️ Extract information about all the movies from James Bond from a table at [List_of_James_Bond_films](https://en.wikipedia.org/wiki/List_of_James_Bond_films).\n",
    "\n",
    "🎶 Extract information about all the James Bond's theme songs from a table at [Lijst_van_titelsongs_uit_de_James_Bondfilms](https://nl.wikipedia.org/wiki/Lijst_van_titelsongs_uit_de_James_Bondfilms) (\"Yes! Dutch site because the structure of the table was much easier. It does not need to be difficult to be good, right? 😉 \").\n",
    "\n",
    "🎶 Scrape lyrics of the theme songs.\n",
    "\n",
    "To accomplish this what we need is a basic knowledge on HTML which means its tree structure and that tags define the branches where the information we search are. Furthermore, we make use of two Python libraries:\n",
    "\n",
    "* [`requests`](https://requests.readthedocs.io/en/master/) which we allow us to get the webpage we want; and\n",
    "* [`Beautiful Soup`](https://www.crummy.com/software/BeautifulSoup/bs4/doc/) that parses the content of the webpage and allows us extracting tags from an HTML document.\n",
    "\n",
    "So, let's start!\n"
   ]
  },
  {
   "cell_type": "markdown",
   "metadata": {},
   "source": [
    "# 📽️Web Scraping Information about James Bond's Movies\n",
    "\n",
    "## Step 1: Inspecting website\n",
    "\n",
    "An important step when web scraping is **inspection**. Every time we scrape a website we need to have an idea of its structure and where to find what we need.\n",
    "\n",
    "For this, no matter which browser we use, we can access its code by right clicking and choosing to access it source code, i.e., `view page` (Firefox) or `view page source` (Chrome and Microsoft Edge). If you need details of an specific element right click on it and choose `inspect element`(Firefox) or `inspect` (Chrome and Microsoft Edge), instead.\n",
    "\n",
    "Web pages use `HyperText Markup Language (HTML)` which is a markup language with its own syntax and rules. When a web browser like Chrome or Firefox downloads a web page, it reads the HTML to determine how to render and display it to you.\n",
    "\n",
    "HTML consists of **tags**. Anything in between the opening and closing of a tag is the content of that tag. \n",
    "\n",
    "Some of elements that often encountered are:\n",
    "\n",
    "`<head>` : Contains metadata useful to the web browser which is rendering the page but which is invisible to the user.\n",
    "\n",
    "`<body>` : Contains the content of an HTML document with which the user interacts. Every page has only one body.\n",
    "\n",
    "`<div>`: Section of the body.\n",
    "\n",
    "`<p>`: Delimits paragraphs.\n",
    "\n",
    "`<a>` : Creates a hyperlink to web pages, files, email addresses, locations in the same page, or anything else a URL can address.\n",
    "\n",
    "For more definitions of elements check these links: [dev_mozilla](https://developer.mozilla.org/en-US/docs/Web/HTML/Element) or [w3s](https://www.w3schools.com/html/html_elements.asp)\n",
    "\n",
    "While inspecting the website source code you will notice that some tags contain attributes which provide special instructions for the contents contained within that tag. Specific html attributes names are followed by equal sign, followed by information which is passed to that attribute within that tag.\n",
    "\n",
    "For example:\n",
    "\n",
    "`<div id=\"contentSub\"></div>`"
   ]
  },
  {
   "cell_type": "markdown",
   "metadata": {},
   "source": [
    "<img src=\"../images/webpage_code_ex01.JPG\" width=\"800\" />"
   ]
  },
  {
   "cell_type": "markdown",
   "metadata": {},
   "source": [
    "## Step 2: Access Content of Website\n",
    "\n",
    "For this we need to :\n",
    "\n",
    "1. Access website using `requests`\n",
    "2. Parse content with `Beautiful Soup` so we can extract what we need within tags"
   ]
  },
  {
   "cell_type": "code",
   "execution_count": 1,
   "metadata": {
    "code_folding": []
   },
   "outputs": [],
   "source": [
    "# importing packages\n",
    "\n",
    "import requests\n",
    "from bs4 import BeautifulSoup\n",
    "import pandas as pd"
   ]
  },
  {
   "cell_type": "code",
   "execution_count": 2,
   "metadata": {
    "code_folding": []
   },
   "outputs": [],
   "source": [
    "main_url = \"https://en.wikipedia.org/wiki/List_of_James_Bond_films\"\n",
    "\n",
    "# Send request and catch response: r\n",
    "response = requests.get(main_url)\n",
    "\n",
    "# get the content of the response\n",
    "content = response.content\n",
    "\n",
    "# parse webpage\n",
    "parser = BeautifulSoup(content, 'lxml')"
   ]
  },
  {
   "cell_type": "markdown",
   "metadata": {},
   "source": [
    "The parse is a `BeautifulSoup object`, which represents the document as a nested data structure."
   ]
  },
  {
   "cell_type": "code",
   "execution_count": 3,
   "metadata": {},
   "outputs": [],
   "source": [
    "parser;"
   ]
  },
  {
   "cell_type": "markdown",
   "metadata": {},
   "source": [
    "We will need to perform the same process for our 2 next tasks, so let's build a function:"
   ]
  },
  {
   "cell_type": "code",
   "execution_count": 4,
   "metadata": {},
   "outputs": [],
   "source": [
    "def parse_website(url):\n",
    "    \"\"\" \n",
    "    Parse content of a website\n",
    "    \n",
    "    Args:\n",
    "        url (str): url of the website of which we want to acess the content \n",
    "        \n",
    "    Return:\n",
    "        parser: representation of the document as a nested data structure.\n",
    "    \"\"\"\n",
    "    # Send request and catch response\n",
    "    response = requests.get(url)\n",
    "\n",
    "    # get the content of the response\n",
    "    content = response.content\n",
    "\n",
    "    # parse webpage\n",
    "    parser = BeautifulSoup(content, \"lxml\")\n",
    "    \n",
    "    return parser  "
   ]
  },
  {
   "cell_type": "markdown",
   "metadata": {},
   "source": [
    "### Extracting Information from Website\n",
    "\n",
    "This part will depend on the structure of the website source code and of what you need as information from it.\n",
    "\n",
    "Before going to our target (table with information about James Bond's films) let's see how we can access some text of the website."
   ]
  },
  {
   "cell_type": "code",
   "execution_count": 5,
   "metadata": {},
   "outputs": [],
   "source": [
    "main_url = \"https://en.wikipedia.org/wiki/List_of_James_Bond_films\"\n",
    "parser = parse_website(main_url)"
   ]
  },
  {
   "cell_type": "markdown",
   "metadata": {},
   "source": [
    "Now that we have the tree let's get the branches we want. To access the branches we use tags as attributes of the parser. Therefore, to obtain the title of the webpage:"
   ]
  },
  {
   "cell_type": "code",
   "execution_count": 6,
   "metadata": {},
   "outputs": [
    {
     "data": {
      "text/plain": [
       "'List of James Bond films - Wikipedia'"
      ]
     },
     "execution_count": 6,
     "metadata": {},
     "output_type": "execute_result"
    }
   ],
   "source": [
    "# access title of the web page\n",
    "title = parser.title\n",
    "#obtain text between tags\n",
    "title = title.text\n",
    "title"
   ]
  },
  {
   "cell_type": "markdown",
   "metadata": {},
   "source": [
    "`Body` is the main branch of the HTML document where all elements such as paragraphs, hyperlinks are located. To access paragraphs we use tag `p`. If we use `find` the 1st paragraph is shown, if we use `find_all` we wil have acess to all paragraphs."
   ]
  },
  {
   "cell_type": "code",
   "execution_count": 7,
   "metadata": {},
   "outputs": [],
   "source": [
    "# body is with html element\n",
    "body = parser.body\n",
    "body;"
   ]
  },
  {
   "cell_type": "code",
   "execution_count": 8,
   "metadata": {},
   "outputs": [
    {
     "data": {
      "text/plain": [
       "<p class=\"mw-empty-elt\">\n",
       "</p>"
      ]
     },
     "execution_count": 8,
     "metadata": {},
     "output_type": "execute_result"
    }
   ],
   "source": [
    "# first paragraph\n",
    "parser.body.find('p')"
   ]
  },
  {
   "cell_type": "code",
   "execution_count": 9,
   "metadata": {},
   "outputs": [],
   "source": [
    "# all paragraphs\n",
    "\n",
    "parser.body.find_all('p');"
   ]
  },
  {
   "cell_type": "markdown",
   "metadata": {},
   "source": [
    "The method `find_all` returns a list and as one we can access an item using an index."
   ]
  },
  {
   "cell_type": "code",
   "execution_count": 10,
   "metadata": {},
   "outputs": [
    {
     "data": {
      "text/plain": [
       "['\\n',\n",
       " \"James Bond is a fictional character created by the novelist Ian Fleming in 1953. Bond is a British secret agent working for MI6 who also answers to his codename, ”007“.  He has been portrayed on film by the actors Sean Connery, David Niven, George Lazenby, Roger Moore, Timothy Dalton, Pierce Brosnan and Daniel Craig, in twenty-seven productions. All the films but two were made by Eon Productions. Eon now holds the full adaptation rights to all of Fleming's Bond novels.[1][2]\\n\"]"
      ]
     },
     "execution_count": 10,
     "metadata": {},
     "output_type": "execute_result"
    }
   ],
   "source": [
    "# find all paragraphs within the body of html\n",
    "list_paragraphs = parser.body.find_all('p')\n",
    "# extract the string within it\n",
    "list_paragraphs = [p.text for p in list_paragraphs]\n",
    "# show the first 2 paragraphs\n",
    "list_paragraphs[:2]"
   ]
  },
  {
   "cell_type": "code",
   "execution_count": 11,
   "metadata": {
    "scrolled": true
   },
   "outputs": [
    {
     "name": "stdout",
     "output_type": "stream",
     "text": [
      "James Bond is a fictional character created by the novelist Ian Fleming in 1953. Bond is a British secret agent working for MI6 who also answers to his codename, ”007“.  He has been portrayed on film by the actors Sean Connery, David Niven, George Lazenby, Roger Moore, Timothy Dalton, Pierce Brosnan and Daniel Craig, in twenty-seven productions. All the films but two were made by Eon Productions. Eon now holds the full adaptation rights to all of Fleming's Bond novels.[1][2]\n",
      "\n"
     ]
    }
   ],
   "source": [
    "# text of the first non-empty paragraphy\n",
    "print(parser.find_all('p')[1].text)"
   ]
  },
  {
   "cell_type": "markdown",
   "metadata": {},
   "source": [
    "Or if you want all the text..."
   ]
  },
  {
   "cell_type": "code",
   "execution_count": 12,
   "metadata": {},
   "outputs": [
    {
     "name": "stdout",
     "output_type": "stream",
     "text": [
      "James Bond is a fictional character created by the novelist Ian Fleming in 1953. Bond is a British secret agent working for MI6 who also answers to his codename, ”007“.  He has been portrayed on film by the actors Sean Connery, David Niven, George Lazenby, Roger Moore, Timothy Dalton, Pierce Brosnan and Daniel Craig, in twenty-seven productions. All the films but two were made by Eon Productions. Eon now holds the full adaptation rights to all of Fleming's Bond novels.[1][2]\n",
      " In 1961 the producers Albert R. Broccoli and Harry Saltzman joined forces to purchase the filming rights to Fleming's novels.[3] They founded the production company Eon Productions and, with financial backing by United Artists, began working on Dr. No, which was directed by Terence Young and featured Connery as Bond.[4] Following Dr. No's release in 1962, Broccoli and Saltzman created the holding company Danjaq to ensure future productions in the James Bond film series.[5] The series currently encompasses twenty-four films, with the most recent, Spectre, released in October 2015. With a combined gross of nearly $7 billion to date, the films produced by Eon constitute the fourth-highest-grossing film series, behind the Marvel Cinematic Universe, Star Wars and Wizarding World films.[6] Accounting for the effects of inflation, the Bond films have amassed over $14 billion at current prices.[a] The films have won five Academy Awards: for Sound Effects (now Sound Editing) in Goldfinger (at the 37th Awards), to John Stears for Special Visual Effects in Thunderball (at the 38th Awards), to Per Hallberg and Karen Baker Landers for Sound Editing, to Adele and Paul Epworth for Original Song in Skyfall (at the 85th Awards) and to Sam Smith and Jimmy Napes for Original Song in Spectre (at the 88th Awards). Additionally, several of the songs produced for the films have been nominated for Academy Awards for Original Song, including Paul McCartney's \"Live and Let Die\", Carly Simon's \"Nobody Does It Better\" and\n"
     ]
    }
   ],
   "source": [
    "text_films = ' '.join(list_paragraphs).strip()\n",
    "# First 2000 characters\n",
    "print(text_films[:2000])"
   ]
  },
  {
   "cell_type": "markdown",
   "metadata": {},
   "source": [
    "### Extracting info from Table\n",
    "\n",
    "You saw how to get some paragraphs, but what we really want as we said at the beginning is information about all movies and those are in the 1st table of the website.\n",
    "\n",
    "The table information can be found under tag `tbody`."
   ]
  },
  {
   "cell_type": "code",
   "execution_count": 13,
   "metadata": {
    "scrolled": false
   },
   "outputs": [
    {
     "data": {
      "text/plain": [
       "6"
      ]
     },
     "execution_count": 13,
     "metadata": {},
     "output_type": "execute_result"
    }
   ],
   "source": [
    "len(parser.find_all('tbody'))"
   ]
  },
  {
   "cell_type": "markdown",
   "metadata": {},
   "source": [
    "There are 6 tables on the website, but we are interested in the 1st one."
   ]
  },
  {
   "cell_type": "code",
   "execution_count": 14,
   "metadata": {
    "scrolled": true
   },
   "outputs": [],
   "source": [
    "parser.tbody;"
   ]
  },
  {
   "cell_type": "markdown",
   "metadata": {},
   "source": [
    "My goal is to build a dataframe so I'll get the header (name of the columns/features) and the data (values for each feature)."
   ]
  },
  {
   "cell_type": "code",
   "execution_count": 15,
   "metadata": {
    "scrolled": true
   },
   "outputs": [
    {
     "data": {
      "text/plain": [
       "[<th rowspan=\"2\" scope=\"col\">Title\n",
       " </th>,\n",
       " <th rowspan=\"2\" scope=\"col\">Year\n",
       " </th>,\n",
       " <th rowspan=\"2\" scope=\"col\">Bond actor\n",
       " </th>,\n",
       " <th rowspan=\"2\" scope=\"col\">Director\n",
       " </th>,\n",
       " <th class=\"unsortable\" rowspan=\"2\" scope=\"col\"><span class=\"nowrap\"><abbr title=\"References\">Ref(s)</abbr></span>\n",
       " </th>,\n",
       " <th data-sort-type=\"number\" scope=\"col\">Actual $\n",
       " </th>,\n",
       " <th data-sort-type=\"number\" scope=\"col\">Adjusted 2005 $\n",
       " </th>,\n",
       " <th data-sort-type=\"number\" scope=\"col\">Actual $\n",
       " </th>,\n",
       " <th data-sort-type=\"number\" scope=\"col\">Adjusted 2005 $\n",
       " </th>,\n",
       " <th colspan=\"4\" scope=\"col\"><b>Total of Eon-produced films</b>\n",
       " </th>]"
      ]
     },
     "execution_count": 15,
     "metadata": {},
     "output_type": "execute_result"
    }
   ],
   "source": [
    "parser.tbody.find_all('th', scope=\"col\")"
   ]
  },
  {
   "cell_type": "markdown",
   "metadata": {},
   "source": [
    "Our result is a list so we can use a list comprehension and apply some filtering to obtain the desired result."
   ]
  },
  {
   "cell_type": "code",
   "execution_count": 16,
   "metadata": {},
   "outputs": [
    {
     "data": {
      "text/plain": [
       "['Title',\n",
       " 'Year',\n",
       " 'Bond actor',\n",
       " 'Director',\n",
       " 'Actual $',\n",
       " 'Adjusted 2005 $',\n",
       " 'Actual $',\n",
       " 'Adjusted 2005 $']"
      ]
     },
     "execution_count": 16,
     "metadata": {},
     "output_type": "execute_result"
    }
   ],
   "source": [
    "# Obtain column names within tag <th> with attribute col\n",
    "list_col_01 = parser.tbody.find_all('th', scope=\"col\")\n",
    "list_col_01 = [item.text.strip() for item in list_col_01 if ('Ref' not in item.text) & ('Total' not in item.text)]\n",
    "list_col_01"
   ]
  },
  {
   "cell_type": "markdown",
   "metadata": {},
   "source": [
    "We need to add `Box office (millions)` and `Budget (millions)` before `Actual $` and `Adjusted 2005 $`."
   ]
  },
  {
   "cell_type": "code",
   "execution_count": 17,
   "metadata": {
    "scrolled": true
   },
   "outputs": [
    {
     "data": {
      "text/plain": [
       "[<th class=\"unsortable\" colspan=\"2\">Box office (millions)<sup class=\"reference\" id=\"cite_ref-FOOTNOTEBlockAutrey_Wilson2010428–429_15-0\"><a href=\"#cite_note-FOOTNOTEBlockAutrey_Wilson2010428–429-15\">[14]</a></sup>\n",
       " </th>,\n",
       " <th class=\"unsortable\" colspan=\"2\">Budget (millions)<sup class=\"reference\" id=\"cite_ref-FOOTNOTEBlockAutrey_Wilson2010428–429_15-1\"><a href=\"#cite_note-FOOTNOTEBlockAutrey_Wilson2010428–429-15\">[14]</a></sup>\n",
       " </th>,\n",
       " <th class=\"unsortable\" rowspan=\"2\" scope=\"col\"><span class=\"nowrap\"><abbr title=\"References\">Ref(s)</abbr></span>\n",
       " </th>]"
      ]
     },
     "execution_count": 17,
     "metadata": {},
     "output_type": "execute_result"
    }
   ],
   "source": [
    "parser.tbody.find_all('th', class_=\"unsortable\")"
   ]
  },
  {
   "cell_type": "code",
   "execution_count": 18,
   "metadata": {},
   "outputs": [
    {
     "data": {
      "text/plain": [
       "['Box office (millions)',\n",
       " 'Box office (millions)',\n",
       " 'Budget (millions)',\n",
       " 'Budget (millions)']"
      ]
     },
     "execution_count": 18,
     "metadata": {},
     "output_type": "execute_result"
    }
   ],
   "source": [
    "# Obtain complement of column names at the attribute unsortable and some manipulation so we can have the correct names\n",
    "list_col_02 = parser.tbody.find_all('th', class_=\"unsortable\")\n",
    "list_col_02 = [item.text.strip().replace('[14]',\"\") for item in list_col_02 if ('Ref' not in item.text) & ('Total' not in item.text)]\n",
    "list_col_02=list_col_02*2\n",
    "list_col_02.sort()\n",
    "list_col_02\n"
   ]
  },
  {
   "cell_type": "code",
   "execution_count": 19,
   "metadata": {},
   "outputs": [
    {
     "data": {
      "text/plain": [
       "['Title',\n",
       " 'Year',\n",
       " 'Bond actor',\n",
       " 'Director',\n",
       " 'Box office (millions) Actual $',\n",
       " 'Box office (millions) Adjusted 2005 $',\n",
       " 'Budget (millions) Actual $',\n",
       " 'Budget (millions) Adjusted 2005 $']"
      ]
     },
     "execution_count": 19,
     "metadata": {},
     "output_type": "execute_result"
    }
   ],
   "source": [
    "# Putting all together\n",
    "list_columns = [list_col_01[idx] if idx in range(len(list_col_01[:4])) else list_col_02[idx-4] +' '+ list_col_01[idx] for idx in range(len(list_col_01)) ]\n",
    "list_columns"
   ]
  },
  {
   "cell_type": "markdown",
   "metadata": {},
   "source": [
    "Now that we have the name of features to be used to build our dataframe, let's find the values for each feature. \n",
    "\n",
    "If we continue checking the content within `tbody` we will notice that `film titles` are found under tag `th` with attribute `row` while the rest of the information is found under `td` with the same attribute."
   ]
  },
  {
   "cell_type": "code",
   "execution_count": 20,
   "metadata": {},
   "outputs": [
    {
     "data": {
      "text/plain": [
       "['Dr. No',\n",
       " 'From Russia with Love',\n",
       " 'Goldfinger',\n",
       " 'Thunderball',\n",
       " 'You Only Live Twice',\n",
       " \"On Her Majesty's Secret Service\",\n",
       " 'Diamonds Are Forever',\n",
       " 'Live and Let Die',\n",
       " 'The Man with the Golden Gun',\n",
       " 'The Spy Who Loved Me',\n",
       " 'Moonraker',\n",
       " 'For Your Eyes Only',\n",
       " 'Octopussy',\n",
       " 'A View to a Kill',\n",
       " 'The Living Daylights',\n",
       " 'Licence to Kill',\n",
       " 'GoldenEye',\n",
       " 'Tomorrow Never Dies',\n",
       " 'The World Is Not Enough',\n",
       " 'Die Another Day',\n",
       " 'Casino Royale',\n",
       " 'Quantum of Solace',\n",
       " 'Skyfall',\n",
       " 'Spectre',\n",
       " 'No Time to Die']"
      ]
     },
     "execution_count": 20,
     "metadata": {},
     "output_type": "execute_result"
    }
   ],
   "source": [
    "# Obtain title of the movies\n",
    "list_films = parser.tbody.find_all('th', scope = \"row\")\n",
    "list_films = [film.text.strip() for film in list_films]\n",
    "list_films"
   ]
  },
  {
   "cell_type": "code",
   "execution_count": 21,
   "metadata": {},
   "outputs": [
    {
     "data": {
      "text/plain": [
       "['1962',\n",
       " 'Sean Connery',\n",
       " 'Terence Young',\n",
       " '59.5',\n",
       " '448.8',\n",
       " '1.1',\n",
       " '7.0',\n",
       " '1963',\n",
       " 'Sean Connery',\n",
       " 'Terence Young']"
      ]
     },
     "execution_count": 21,
     "metadata": {},
     "output_type": "execute_result"
    }
   ],
   "source": [
    "# Obtain all other information about those movies\n",
    "list_info_films = [item.text.strip() for item in parser.tbody.find_all('td')]\n",
    "list_info_films = [list_info_films[idx] for idx in range(len(list_info_films)) if idx % 8 != 7]\n",
    "# showing the first 10 elements of the list\n",
    "list_info_films[:10]"
   ]
  },
  {
   "cell_type": "code",
   "execution_count": 22,
   "metadata": {},
   "outputs": [],
   "source": [
    "# Organizing information in list_info_films by features\n",
    "list_year_film = [list_info_films[idx] for idx in range(len(list_info_films)) if idx % 7 == 0 ]\n",
    "list_actor = [list_info_films[idx] for idx in range(len(list_info_films)) if idx % 7 == 1 ]\n",
    "list_director = [list_info_films[idx] for idx in range(len(list_info_films)) if idx % 7 == 2 ]\n",
    "list_box_office_actual = [list_info_films[idx] for idx in range(len(list_info_films)) if idx % 7 == 3 ]\n",
    "list_box_office_adj_2005 = [list_info_films[idx] for idx in range(len(list_info_films)) if idx % 7 == 4 ]\n",
    "list_budget_actual = [list_info_films[idx] for idx in range(len(list_info_films)) if idx % 7 == 5 ]\n",
    "list_budget_adj_2005 = [list_info_films[idx] for idx in range(len(list_info_films)) if idx % 7 == 6 ]"
   ]
  },
  {
   "cell_type": "code",
   "execution_count": 23,
   "metadata": {},
   "outputs": [],
   "source": [
    "list_of_lists_films = [list_films, list_year_film, list_actor, list_director, list_box_office_actual, list_box_office_adj_2005, \n",
    "                 list_budget_actual, list_budget_adj_2005]\n"
   ]
  },
  {
   "cell_type": "code",
   "execution_count": 24,
   "metadata": {},
   "outputs": [
    {
     "data": {
      "text/plain": [
       "{'Title': ['Dr. No',\n",
       "  'From Russia with Love',\n",
       "  'Goldfinger',\n",
       "  'Thunderball',\n",
       "  'You Only Live Twice',\n",
       "  \"On Her Majesty's Secret Service\",\n",
       "  'Diamonds Are Forever',\n",
       "  'Live and Let Die',\n",
       "  'The Man with the Golden Gun',\n",
       "  'The Spy Who Loved Me',\n",
       "  'Moonraker',\n",
       "  'For Your Eyes Only',\n",
       "  'Octopussy',\n",
       "  'A View to a Kill',\n",
       "  'The Living Daylights',\n",
       "  'Licence to Kill',\n",
       "  'GoldenEye',\n",
       "  'Tomorrow Never Dies',\n",
       "  'The World Is Not Enough',\n",
       "  'Die Another Day',\n",
       "  'Casino Royale',\n",
       "  'Quantum of Solace',\n",
       "  'Skyfall',\n",
       "  'Spectre',\n",
       "  'No Time to Die'],\n",
       " 'Year': ['1962',\n",
       "  '1963',\n",
       "  '1964',\n",
       "  '1965',\n",
       "  '1967',\n",
       "  '1969',\n",
       "  '1971',\n",
       "  '1973',\n",
       "  '1974',\n",
       "  '1977',\n",
       "  '1979',\n",
       "  '1981',\n",
       "  '1983',\n",
       "  '1985',\n",
       "  '1987',\n",
       "  '1989',\n",
       "  '1995',\n",
       "  '1997',\n",
       "  '1999',\n",
       "  '2002',\n",
       "  '2006',\n",
       "  '2008',\n",
       "  '2012',\n",
       "  '2015',\n",
       "  '2021']}"
      ]
     },
     "execution_count": 24,
     "metadata": {},
     "output_type": "execute_result"
    }
   ],
   "source": [
    "# Build a dictionary for our dataframe\n",
    "dict_films = {list_columns[idx]:list_of_lists_films[idx] for idx in range(len(list_columns))}\n",
    "# showing 2 items of the dictionary\n",
    "dict(list(dict_films.items())[0:2])"
   ]
  },
  {
   "cell_type": "code",
   "execution_count": 25,
   "metadata": {},
   "outputs": [
    {
     "data": {
      "text/html": [
       "<div>\n",
       "<style scoped>\n",
       "    .dataframe tbody tr th:only-of-type {\n",
       "        vertical-align: middle;\n",
       "    }\n",
       "\n",
       "    .dataframe tbody tr th {\n",
       "        vertical-align: top;\n",
       "    }\n",
       "\n",
       "    .dataframe thead th {\n",
       "        text-align: right;\n",
       "    }\n",
       "</style>\n",
       "<table border=\"1\" class=\"dataframe\">\n",
       "  <thead>\n",
       "    <tr style=\"text-align: right;\">\n",
       "      <th></th>\n",
       "      <th>Title</th>\n",
       "      <th>Year</th>\n",
       "      <th>Bond actor</th>\n",
       "      <th>Director</th>\n",
       "      <th>Box office (millions) Actual $</th>\n",
       "      <th>Box office (millions) Adjusted 2005 $</th>\n",
       "      <th>Budget (millions) Actual $</th>\n",
       "      <th>Budget (millions) Adjusted 2005 $</th>\n",
       "    </tr>\n",
       "  </thead>\n",
       "  <tbody>\n",
       "    <tr>\n",
       "      <th>0</th>\n",
       "      <td>Dr. No</td>\n",
       "      <td>1962</td>\n",
       "      <td>Sean Connery</td>\n",
       "      <td>Terence Young</td>\n",
       "      <td>59.5</td>\n",
       "      <td>448.8</td>\n",
       "      <td>1.1</td>\n",
       "      <td>7.0</td>\n",
       "    </tr>\n",
       "    <tr>\n",
       "      <th>1</th>\n",
       "      <td>From Russia with Love</td>\n",
       "      <td>1963</td>\n",
       "      <td>Sean Connery</td>\n",
       "      <td>Terence Young</td>\n",
       "      <td>78.9</td>\n",
       "      <td>543.8</td>\n",
       "      <td>2.0</td>\n",
       "      <td>12.6</td>\n",
       "    </tr>\n",
       "    <tr>\n",
       "      <th>2</th>\n",
       "      <td>Goldfinger</td>\n",
       "      <td>1964</td>\n",
       "      <td>Sean Connery</td>\n",
       "      <td>Guy Hamilton</td>\n",
       "      <td>124.9</td>\n",
       "      <td>820.4</td>\n",
       "      <td>3.0</td>\n",
       "      <td>18.6</td>\n",
       "    </tr>\n",
       "    <tr>\n",
       "      <th>3</th>\n",
       "      <td>Thunderball</td>\n",
       "      <td>1965</td>\n",
       "      <td>Sean Connery</td>\n",
       "      <td>Terence Young</td>\n",
       "      <td>141.2</td>\n",
       "      <td>848.1</td>\n",
       "      <td>6.8</td>\n",
       "      <td>41.9</td>\n",
       "    </tr>\n",
       "    <tr>\n",
       "      <th>4</th>\n",
       "      <td>You Only Live Twice</td>\n",
       "      <td>1967</td>\n",
       "      <td>Sean Connery</td>\n",
       "      <td>Lewis Gilbert</td>\n",
       "      <td>111.6</td>\n",
       "      <td>514.2</td>\n",
       "      <td>10.3</td>\n",
       "      <td>59.9</td>\n",
       "    </tr>\n",
       "  </tbody>\n",
       "</table>\n",
       "</div>"
      ],
      "text/plain": [
       "                   Title  Year    Bond actor       Director  \\\n",
       "0                 Dr. No  1962  Sean Connery  Terence Young   \n",
       "1  From Russia with Love  1963  Sean Connery  Terence Young   \n",
       "2             Goldfinger  1964  Sean Connery   Guy Hamilton   \n",
       "3            Thunderball  1965  Sean Connery  Terence Young   \n",
       "4    You Only Live Twice  1967  Sean Connery  Lewis Gilbert   \n",
       "\n",
       "  Box office (millions) Actual $ Box office (millions) Adjusted 2005 $  \\\n",
       "0                           59.5                                 448.8   \n",
       "1                           78.9                                 543.8   \n",
       "2                          124.9                                 820.4   \n",
       "3                          141.2                                 848.1   \n",
       "4                          111.6                                 514.2   \n",
       "\n",
       "  Budget (millions) Actual $ Budget (millions) Adjusted 2005 $  \n",
       "0                        1.1                               7.0  \n",
       "1                        2.0                              12.6  \n",
       "2                        3.0                              18.6  \n",
       "3                        6.8                              41.9  \n",
       "4                       10.3                              59.9  "
      ]
     },
     "execution_count": 25,
     "metadata": {},
     "output_type": "execute_result"
    }
   ],
   "source": [
    "df_films = pd.DataFrame(dict_films)\n",
    "df_films.head()"
   ]
  },
  {
   "cell_type": "markdown",
   "metadata": {},
   "source": [
    "I'll rename column film to `Film Title` so we can use it when merging dataframes with film and music information."
   ]
  },
  {
   "cell_type": "code",
   "execution_count": 26,
   "metadata": {},
   "outputs": [
    {
     "data": {
      "text/plain": [
       "Index(['Title', 'Year', 'Bond actor', 'Director',\n",
       "       'Box office (millions) Actual $',\n",
       "       'Box office (millions) Adjusted 2005 $', 'Budget (millions) Actual $',\n",
       "       'Budget (millions) Adjusted 2005 $'],\n",
       "      dtype='object')"
      ]
     },
     "execution_count": 26,
     "metadata": {},
     "output_type": "execute_result"
    }
   ],
   "source": [
    "df_films.columns"
   ]
  },
  {
   "cell_type": "code",
   "execution_count": 27,
   "metadata": {},
   "outputs": [],
   "source": [
    "df_films.rename(columns = {'Title': 'Film Title'}, inplace = True)"
   ]
  },
  {
   "cell_type": "code",
   "execution_count": 28,
   "metadata": {},
   "outputs": [
    {
     "data": {
      "text/html": [
       "<div>\n",
       "<style scoped>\n",
       "    .dataframe tbody tr th:only-of-type {\n",
       "        vertical-align: middle;\n",
       "    }\n",
       "\n",
       "    .dataframe tbody tr th {\n",
       "        vertical-align: top;\n",
       "    }\n",
       "\n",
       "    .dataframe thead th {\n",
       "        text-align: right;\n",
       "    }\n",
       "</style>\n",
       "<table border=\"1\" class=\"dataframe\">\n",
       "  <thead>\n",
       "    <tr style=\"text-align: right;\">\n",
       "      <th></th>\n",
       "      <th>Film Title</th>\n",
       "      <th>Year</th>\n",
       "      <th>Bond actor</th>\n",
       "      <th>Director</th>\n",
       "      <th>Box office (millions) Actual $</th>\n",
       "      <th>Box office (millions) Adjusted 2005 $</th>\n",
       "      <th>Budget (millions) Actual $</th>\n",
       "      <th>Budget (millions) Adjusted 2005 $</th>\n",
       "    </tr>\n",
       "  </thead>\n",
       "  <tbody>\n",
       "    <tr>\n",
       "      <th>0</th>\n",
       "      <td>Dr. No</td>\n",
       "      <td>1962</td>\n",
       "      <td>Sean Connery</td>\n",
       "      <td>Terence Young</td>\n",
       "      <td>59.5</td>\n",
       "      <td>448.8</td>\n",
       "      <td>1.1</td>\n",
       "      <td>7.0</td>\n",
       "    </tr>\n",
       "    <tr>\n",
       "      <th>1</th>\n",
       "      <td>From Russia with Love</td>\n",
       "      <td>1963</td>\n",
       "      <td>Sean Connery</td>\n",
       "      <td>Terence Young</td>\n",
       "      <td>78.9</td>\n",
       "      <td>543.8</td>\n",
       "      <td>2.0</td>\n",
       "      <td>12.6</td>\n",
       "    </tr>\n",
       "    <tr>\n",
       "      <th>2</th>\n",
       "      <td>Goldfinger</td>\n",
       "      <td>1964</td>\n",
       "      <td>Sean Connery</td>\n",
       "      <td>Guy Hamilton</td>\n",
       "      <td>124.9</td>\n",
       "      <td>820.4</td>\n",
       "      <td>3.0</td>\n",
       "      <td>18.6</td>\n",
       "    </tr>\n",
       "    <tr>\n",
       "      <th>3</th>\n",
       "      <td>Thunderball</td>\n",
       "      <td>1965</td>\n",
       "      <td>Sean Connery</td>\n",
       "      <td>Terence Young</td>\n",
       "      <td>141.2</td>\n",
       "      <td>848.1</td>\n",
       "      <td>6.8</td>\n",
       "      <td>41.9</td>\n",
       "    </tr>\n",
       "    <tr>\n",
       "      <th>4</th>\n",
       "      <td>You Only Live Twice</td>\n",
       "      <td>1967</td>\n",
       "      <td>Sean Connery</td>\n",
       "      <td>Lewis Gilbert</td>\n",
       "      <td>111.6</td>\n",
       "      <td>514.2</td>\n",
       "      <td>10.3</td>\n",
       "      <td>59.9</td>\n",
       "    </tr>\n",
       "  </tbody>\n",
       "</table>\n",
       "</div>"
      ],
      "text/plain": [
       "              Film Title  Year    Bond actor       Director  \\\n",
       "0                 Dr. No  1962  Sean Connery  Terence Young   \n",
       "1  From Russia with Love  1963  Sean Connery  Terence Young   \n",
       "2             Goldfinger  1964  Sean Connery   Guy Hamilton   \n",
       "3            Thunderball  1965  Sean Connery  Terence Young   \n",
       "4    You Only Live Twice  1967  Sean Connery  Lewis Gilbert   \n",
       "\n",
       "  Box office (millions) Actual $ Box office (millions) Adjusted 2005 $  \\\n",
       "0                           59.5                                 448.8   \n",
       "1                           78.9                                 543.8   \n",
       "2                          124.9                                 820.4   \n",
       "3                          141.2                                 848.1   \n",
       "4                          111.6                                 514.2   \n",
       "\n",
       "  Budget (millions) Actual $ Budget (millions) Adjusted 2005 $  \n",
       "0                        1.1                               7.0  \n",
       "1                        2.0                              12.6  \n",
       "2                        3.0                              18.6  \n",
       "3                        6.8                              41.9  \n",
       "4                       10.3                              59.9  "
      ]
     },
     "execution_count": 28,
     "metadata": {},
     "output_type": "execute_result"
    }
   ],
   "source": [
    "df_films.head()"
   ]
  },
  {
   "cell_type": "markdown",
   "metadata": {},
   "source": [
    "# 🎶 Web Scraping Information about James Bond's Theme Songs\n",
    "\n",
    "For this task I've chosen the Dutch Wikipedia website because the structure of the table is simpler than the English Wikipedia website. This makes it a bit easier to extract the information we want. In addition, the information we want is mostly in English.\n",
    "\n",
    "Let's start by using our function to parse the content of the website.\n"
   ]
  },
  {
   "cell_type": "code",
   "execution_count": 29,
   "metadata": {},
   "outputs": [],
   "source": [
    "# this I checked first: https://en.wikipedia.org/wiki/James_Bond_music\n",
    "\n",
    "main_url = \"https://nl.wikipedia.org/wiki/Lijst_van_titelsongs_uit_de_James_Bondfilms\"\n",
    "\n",
    "parser = parse_website(main_url)"
   ]
  },
  {
   "cell_type": "markdown",
   "metadata": {},
   "source": [
    "Again, the information we are looking for is in the first table."
   ]
  },
  {
   "cell_type": "code",
   "execution_count": 30,
   "metadata": {},
   "outputs": [],
   "source": [
    "parser.find('tbody');"
   ]
  },
  {
   "cell_type": "code",
   "execution_count": 31,
   "metadata": {},
   "outputs": [
    {
     "data": {
      "text/plain": [
       "['Titelsong', 'Artiest', 'Film', 'Jaar', 'Componist']"
      ]
     },
     "execution_count": 31,
     "metadata": {},
     "output_type": "execute_result"
    }
   ],
   "source": [
    "# Name of columns \n",
    "list_columns = parser.tbody.find_all('th')\n",
    "list_columns = [item.text.strip() for item in list_columns]\n",
    "list_columns"
   ]
  },
  {
   "cell_type": "markdown",
   "metadata": {},
   "source": [
    "or in English:"
   ]
  },
  {
   "cell_type": "code",
   "execution_count": 32,
   "metadata": {},
   "outputs": [],
   "source": [
    "    list_columns = ['Theme Song', 'Performer', 'Film Title', 'Year', 'Composer']"
   ]
  },
  {
   "cell_type": "markdown",
   "metadata": {},
   "source": [
    "This time obtaining the header of our data frame was pretty direct. Indeed, we could simply type the list, especially since we needed to translate it. However, it is good to show how different it was from the previous section. Therefore, how you retrieve the information depends on the structure of the website, and that's why a good inspection is important.\n",
    "\n",
    "We now have the names of our 5 columns. Following, we will build the content of our table."
   ]
  },
  {
   "cell_type": "code",
   "execution_count": 33,
   "metadata": {},
   "outputs": [
    {
     "data": {
      "text/plain": [
       "['James Bond Theme en  Kingston Calypso',\n",
       " 'Orkest o.l.v. John Barry',\n",
       " 'Dr. No',\n",
       " '1962',\n",
       " 'Monty Norman & John Barry',\n",
       " 'From Russia with Love',\n",
       " 'Matt Monro',\n",
       " 'From Russia with Love',\n",
       " '1963',\n",
       " 'John Barry & Lionel Bart']"
      ]
     },
     "execution_count": 33,
     "metadata": {},
     "output_type": "execute_result"
    }
   ],
   "source": [
    "# Extract information about Jame Bond's theme songs\n",
    "list_table_songs = parser.tbody.find_all('td')\n",
    "list_table_songs = [item.text.strip() for item in list_table_songs]\n",
    "# showing the 1st 10 items of the list\n",
    "list_table_songs[:10]"
   ]
  },
  {
   "cell_type": "markdown",
   "metadata": {},
   "source": [
    "`<td>` is a html element that defines a cell of a table that contains data. As we can notice above every 5 rows (cells of the table) contain respectively, `Theme Song`, `Performer`, `Film Title`, `Year`, `Composer`. Let's use this to build our data frame with all theme songs of the James Bond film series."
   ]
  },
  {
   "cell_type": "code",
   "execution_count": 34,
   "metadata": {},
   "outputs": [],
   "source": [
    "# Spliting information by feature\n",
    "list_title_songs = [list_table_songs[idx] for idx in range(len(list_table_songs)) if idx % 5 == 0 ]\n",
    "list_performers = [list_table_songs[idx] for idx in range(len(list_table_songs)) if idx % 5 == 1 ]\n",
    "list_films = [list_table_songs[idx] for idx in range(len(list_table_songs)) if idx % 5 == 2 ]\n",
    "list_years = [list_table_songs[idx] for idx in range(len(list_table_songs)) if idx % 5 == 3 ]\n",
    "list_composers = [list_table_songs[idx] for idx in range(len(list_table_songs)) if idx % 5 == 4 ]\n"
   ]
  },
  {
   "cell_type": "code",
   "execution_count": 35,
   "metadata": {},
   "outputs": [],
   "source": [
    "list_of_lists_songs = [list_title_songs, list_performers, list_films, list_years, list_composers]\n"
   ]
  },
  {
   "cell_type": "code",
   "execution_count": 36,
   "metadata": {},
   "outputs": [
    {
     "data": {
      "text/plain": [
       "{'Theme Song': ['James Bond Theme en  Kingston Calypso',\n",
       "  'From Russia with Love',\n",
       "  'Goldfinger',\n",
       "  'Thunderball',\n",
       "  'You Only Live Twice',\n",
       "  \"On Her Majesty's Secret Service\",\n",
       "  'Diamonds Are Forever',\n",
       "  'Live and Let Die',\n",
       "  'The Man with the Golden Gun',\n",
       "  'Nobody Does It Better',\n",
       "  'Moonraker',\n",
       "  'For Your Eyes Only',\n",
       "  'All Time High',\n",
       "  'A View to a Kill',\n",
       "  'The Living Daylights',\n",
       "  'Licence to Kill',\n",
       "  'GoldenEye',\n",
       "  'Tomorrow Never Dies',\n",
       "  'The World Is Not Enough',\n",
       "  'Die Another Day',\n",
       "  'You Know My Name',\n",
       "  'Another Way to Die',\n",
       "  'Skyfall',\n",
       "  \"Writing's On The Wall\",\n",
       "  'No Time to Die'],\n",
       " 'Performer': ['Orkest o.l.v. John Barry',\n",
       "  'Matt Monro',\n",
       "  'Shirley Bassey',\n",
       "  'Tom Jones',\n",
       "  'Nancy Sinatra',\n",
       "  'Orkest o.l.v. John Barry',\n",
       "  'Shirley Bassey',\n",
       "  'Paul McCartney & Wings',\n",
       "  'Lulu',\n",
       "  'Carly Simon',\n",
       "  'Shirley Bassey',\n",
       "  'Sheena Easton',\n",
       "  'Rita Coolidge',\n",
       "  'Duran Duran',\n",
       "  'a-ha',\n",
       "  'Gladys Knight',\n",
       "  'Tina Turner',\n",
       "  'Sheryl Crow',\n",
       "  'Garbage',\n",
       "  'Madonna',\n",
       "  'Chris Cornell',\n",
       "  'Alicia Keys & Jack White',\n",
       "  'Adele',\n",
       "  'Sam Smith',\n",
       "  'Billie Eilish']}"
      ]
     },
     "execution_count": 36,
     "metadata": {},
     "output_type": "execute_result"
    }
   ],
   "source": [
    "dict_songs = {list_columns[idx]:list_of_lists_songs[idx] for idx in range(len(list_columns))}\n",
    "\n",
    "# showing 2 items of the dictionary\n",
    "dict(list(dict_songs.items())[0:2])"
   ]
  },
  {
   "cell_type": "code",
   "execution_count": 37,
   "metadata": {},
   "outputs": [
    {
     "data": {
      "text/html": [
       "<div>\n",
       "<style scoped>\n",
       "    .dataframe tbody tr th:only-of-type {\n",
       "        vertical-align: middle;\n",
       "    }\n",
       "\n",
       "    .dataframe tbody tr th {\n",
       "        vertical-align: top;\n",
       "    }\n",
       "\n",
       "    .dataframe thead th {\n",
       "        text-align: right;\n",
       "    }\n",
       "</style>\n",
       "<table border=\"1\" class=\"dataframe\">\n",
       "  <thead>\n",
       "    <tr style=\"text-align: right;\">\n",
       "      <th></th>\n",
       "      <th>Theme Song</th>\n",
       "      <th>Performer</th>\n",
       "      <th>Film Title</th>\n",
       "      <th>Year</th>\n",
       "      <th>Composer</th>\n",
       "    </tr>\n",
       "  </thead>\n",
       "  <tbody>\n",
       "    <tr>\n",
       "      <th>0</th>\n",
       "      <td>James Bond Theme en  Kingston Calypso</td>\n",
       "      <td>Orkest o.l.v. John Barry</td>\n",
       "      <td>Dr. No</td>\n",
       "      <td>1962</td>\n",
       "      <td>Monty Norman &amp; John Barry</td>\n",
       "    </tr>\n",
       "    <tr>\n",
       "      <th>1</th>\n",
       "      <td>From Russia with Love</td>\n",
       "      <td>Matt Monro</td>\n",
       "      <td>From Russia with Love</td>\n",
       "      <td>1963</td>\n",
       "      <td>John Barry &amp; Lionel Bart</td>\n",
       "    </tr>\n",
       "    <tr>\n",
       "      <th>2</th>\n",
       "      <td>Goldfinger</td>\n",
       "      <td>Shirley Bassey</td>\n",
       "      <td>Goldfinger</td>\n",
       "      <td>1964</td>\n",
       "      <td>John Barry &amp; Anthony Newley &amp; Leslie Bricusse</td>\n",
       "    </tr>\n",
       "    <tr>\n",
       "      <th>3</th>\n",
       "      <td>Thunderball</td>\n",
       "      <td>Tom Jones</td>\n",
       "      <td>Thunderball</td>\n",
       "      <td>1965</td>\n",
       "      <td>John Barry &amp; Don Black</td>\n",
       "    </tr>\n",
       "    <tr>\n",
       "      <th>4</th>\n",
       "      <td>You Only Live Twice</td>\n",
       "      <td>Nancy Sinatra</td>\n",
       "      <td>You Only Live Twice</td>\n",
       "      <td>1967</td>\n",
       "      <td>John Barry &amp; Leslie Bricusse</td>\n",
       "    </tr>\n",
       "    <tr>\n",
       "      <th>5</th>\n",
       "      <td>On Her Majesty's Secret Service</td>\n",
       "      <td>Orkest o.l.v. John Barry</td>\n",
       "      <td>On Her Majesty's Secret Service</td>\n",
       "      <td>1969</td>\n",
       "      <td>John Barry</td>\n",
       "    </tr>\n",
       "    <tr>\n",
       "      <th>6</th>\n",
       "      <td>Diamonds Are Forever</td>\n",
       "      <td>Shirley Bassey</td>\n",
       "      <td>Diamonds Are Forever</td>\n",
       "      <td>1971</td>\n",
       "      <td>John Barry &amp; Don Black</td>\n",
       "    </tr>\n",
       "    <tr>\n",
       "      <th>7</th>\n",
       "      <td>Live and Let Die</td>\n",
       "      <td>Paul McCartney &amp; Wings</td>\n",
       "      <td>Live and Let Die</td>\n",
       "      <td>1973</td>\n",
       "      <td>Paul McCartney &amp; Linda McCartney</td>\n",
       "    </tr>\n",
       "    <tr>\n",
       "      <th>8</th>\n",
       "      <td>The Man with the Golden Gun</td>\n",
       "      <td>Lulu</td>\n",
       "      <td>The Man with the Golden Gun</td>\n",
       "      <td>1974</td>\n",
       "      <td>John Barry &amp; Don Black</td>\n",
       "    </tr>\n",
       "    <tr>\n",
       "      <th>9</th>\n",
       "      <td>Nobody Does It Better</td>\n",
       "      <td>Carly Simon</td>\n",
       "      <td>The Spy Who Loved Me</td>\n",
       "      <td>1977</td>\n",
       "      <td>Marvin Hamlisch &amp; Carole Bayer Sager</td>\n",
       "    </tr>\n",
       "    <tr>\n",
       "      <th>10</th>\n",
       "      <td>Moonraker</td>\n",
       "      <td>Shirley Bassey</td>\n",
       "      <td>Moonraker</td>\n",
       "      <td>1979</td>\n",
       "      <td>John Barry &amp; Hal David</td>\n",
       "    </tr>\n",
       "    <tr>\n",
       "      <th>11</th>\n",
       "      <td>For Your Eyes Only</td>\n",
       "      <td>Sheena Easton</td>\n",
       "      <td>For Your Eyes Only</td>\n",
       "      <td>1981</td>\n",
       "      <td>Bill Conti &amp; Michael Leeson</td>\n",
       "    </tr>\n",
       "    <tr>\n",
       "      <th>12</th>\n",
       "      <td>All Time High</td>\n",
       "      <td>Rita Coolidge</td>\n",
       "      <td>Octopussy</td>\n",
       "      <td>1983</td>\n",
       "      <td>John Barry, Tim Rice &amp; Stephen Short</td>\n",
       "    </tr>\n",
       "    <tr>\n",
       "      <th>13</th>\n",
       "      <td>A View to a Kill</td>\n",
       "      <td>Duran Duran</td>\n",
       "      <td>A View to a Kill</td>\n",
       "      <td>1985</td>\n",
       "      <td>John Barry</td>\n",
       "    </tr>\n",
       "    <tr>\n",
       "      <th>14</th>\n",
       "      <td>The Living Daylights</td>\n",
       "      <td>a-ha</td>\n",
       "      <td>The Living Daylights</td>\n",
       "      <td>1987</td>\n",
       "      <td>John Barry &amp; Pål Waaktaar</td>\n",
       "    </tr>\n",
       "    <tr>\n",
       "      <th>15</th>\n",
       "      <td>Licence to Kill</td>\n",
       "      <td>Gladys Knight</td>\n",
       "      <td>Licence to Kill</td>\n",
       "      <td>1989</td>\n",
       "      <td>N. Michael Walden, Jeffrey Cohen &amp; Walter Afan...</td>\n",
       "    </tr>\n",
       "    <tr>\n",
       "      <th>16</th>\n",
       "      <td>GoldenEye</td>\n",
       "      <td>Tina Turner</td>\n",
       "      <td>GoldenEye</td>\n",
       "      <td>1995</td>\n",
       "      <td>Bono &amp; The Edge</td>\n",
       "    </tr>\n",
       "    <tr>\n",
       "      <th>17</th>\n",
       "      <td>Tomorrow Never Dies</td>\n",
       "      <td>Sheryl Crow</td>\n",
       "      <td>Tomorrow Never Dies</td>\n",
       "      <td>1997</td>\n",
       "      <td>Sheryl Crow &amp; Mitchell Froom</td>\n",
       "    </tr>\n",
       "    <tr>\n",
       "      <th>18</th>\n",
       "      <td>The World Is Not Enough</td>\n",
       "      <td>Garbage</td>\n",
       "      <td>The World Is Not Enough</td>\n",
       "      <td>1999</td>\n",
       "      <td>David Arnold &amp; Don Black</td>\n",
       "    </tr>\n",
       "    <tr>\n",
       "      <th>19</th>\n",
       "      <td>Die Another Day</td>\n",
       "      <td>Madonna</td>\n",
       "      <td>Die Another Day</td>\n",
       "      <td>2002</td>\n",
       "      <td>Madonna &amp; Mirwais Ahmadzaï</td>\n",
       "    </tr>\n",
       "    <tr>\n",
       "      <th>20</th>\n",
       "      <td>You Know My Name</td>\n",
       "      <td>Chris Cornell</td>\n",
       "      <td>Casino Royale</td>\n",
       "      <td>2006</td>\n",
       "      <td>David Arnold &amp; Chris Cornell</td>\n",
       "    </tr>\n",
       "    <tr>\n",
       "      <th>21</th>\n",
       "      <td>Another Way to Die</td>\n",
       "      <td>Alicia Keys &amp; Jack White</td>\n",
       "      <td>Quantum of Solace</td>\n",
       "      <td>2008</td>\n",
       "      <td>Jack White</td>\n",
       "    </tr>\n",
       "    <tr>\n",
       "      <th>22</th>\n",
       "      <td>Skyfall</td>\n",
       "      <td>Adele</td>\n",
       "      <td>Skyfall</td>\n",
       "      <td>2012</td>\n",
       "      <td>Adele &amp; Paul Epworth</td>\n",
       "    </tr>\n",
       "    <tr>\n",
       "      <th>23</th>\n",
       "      <td>Writing's On The Wall</td>\n",
       "      <td>Sam Smith</td>\n",
       "      <td>Spectre</td>\n",
       "      <td>2015</td>\n",
       "      <td>Sam Smith &amp; Jimmy Napes</td>\n",
       "    </tr>\n",
       "    <tr>\n",
       "      <th>24</th>\n",
       "      <td>No Time to Die</td>\n",
       "      <td>Billie Eilish</td>\n",
       "      <td>No Time to Die</td>\n",
       "      <td>2020</td>\n",
       "      <td>Billie Eilish &amp; Finneas O'Connell</td>\n",
       "    </tr>\n",
       "  </tbody>\n",
       "</table>\n",
       "</div>"
      ],
      "text/plain": [
       "                               Theme Song                 Performer  \\\n",
       "0   James Bond Theme en  Kingston Calypso  Orkest o.l.v. John Barry   \n",
       "1                   From Russia with Love                Matt Monro   \n",
       "2                              Goldfinger            Shirley Bassey   \n",
       "3                             Thunderball                 Tom Jones   \n",
       "4                     You Only Live Twice             Nancy Sinatra   \n",
       "5         On Her Majesty's Secret Service  Orkest o.l.v. John Barry   \n",
       "6                    Diamonds Are Forever            Shirley Bassey   \n",
       "7                        Live and Let Die    Paul McCartney & Wings   \n",
       "8             The Man with the Golden Gun                      Lulu   \n",
       "9                   Nobody Does It Better               Carly Simon   \n",
       "10                              Moonraker            Shirley Bassey   \n",
       "11                     For Your Eyes Only             Sheena Easton   \n",
       "12                          All Time High             Rita Coolidge   \n",
       "13                       A View to a Kill               Duran Duran   \n",
       "14                   The Living Daylights                      a-ha   \n",
       "15                        Licence to Kill             Gladys Knight   \n",
       "16                              GoldenEye               Tina Turner   \n",
       "17                    Tomorrow Never Dies               Sheryl Crow   \n",
       "18                The World Is Not Enough                   Garbage   \n",
       "19                        Die Another Day                   Madonna   \n",
       "20                       You Know My Name             Chris Cornell   \n",
       "21                     Another Way to Die  Alicia Keys & Jack White   \n",
       "22                                Skyfall                     Adele   \n",
       "23                  Writing's On The Wall                 Sam Smith   \n",
       "24                         No Time to Die             Billie Eilish   \n",
       "\n",
       "                         Film Title  Year  \\\n",
       "0                            Dr. No  1962   \n",
       "1             From Russia with Love  1963   \n",
       "2                        Goldfinger  1964   \n",
       "3                       Thunderball  1965   \n",
       "4               You Only Live Twice  1967   \n",
       "5   On Her Majesty's Secret Service  1969   \n",
       "6              Diamonds Are Forever  1971   \n",
       "7                  Live and Let Die  1973   \n",
       "8       The Man with the Golden Gun  1974   \n",
       "9              The Spy Who Loved Me  1977   \n",
       "10                        Moonraker  1979   \n",
       "11               For Your Eyes Only  1981   \n",
       "12                        Octopussy  1983   \n",
       "13                 A View to a Kill  1985   \n",
       "14             The Living Daylights  1987   \n",
       "15                  Licence to Kill  1989   \n",
       "16                        GoldenEye  1995   \n",
       "17              Tomorrow Never Dies  1997   \n",
       "18          The World Is Not Enough  1999   \n",
       "19                  Die Another Day  2002   \n",
       "20                    Casino Royale  2006   \n",
       "21                Quantum of Solace  2008   \n",
       "22                          Skyfall  2012   \n",
       "23                          Spectre  2015   \n",
       "24                   No Time to Die  2020   \n",
       "\n",
       "                                             Composer  \n",
       "0                           Monty Norman & John Barry  \n",
       "1                            John Barry & Lionel Bart  \n",
       "2       John Barry & Anthony Newley & Leslie Bricusse  \n",
       "3                              John Barry & Don Black  \n",
       "4                        John Barry & Leslie Bricusse  \n",
       "5                                          John Barry  \n",
       "6                              John Barry & Don Black  \n",
       "7                    Paul McCartney & Linda McCartney  \n",
       "8                              John Barry & Don Black  \n",
       "9                Marvin Hamlisch & Carole Bayer Sager  \n",
       "10                             John Barry & Hal David  \n",
       "11                        Bill Conti & Michael Leeson  \n",
       "12               John Barry, Tim Rice & Stephen Short  \n",
       "13                                         John Barry  \n",
       "14                          John Barry & Pål Waaktaar  \n",
       "15  N. Michael Walden, Jeffrey Cohen & Walter Afan...  \n",
       "16                                    Bono & The Edge  \n",
       "17                       Sheryl Crow & Mitchell Froom  \n",
       "18                           David Arnold & Don Black  \n",
       "19                         Madonna & Mirwais Ahmadzaï  \n",
       "20                       David Arnold & Chris Cornell  \n",
       "21                                         Jack White  \n",
       "22                               Adele & Paul Epworth  \n",
       "23                            Sam Smith & Jimmy Napes  \n",
       "24                  Billie Eilish & Finneas O'Connell  "
      ]
     },
     "execution_count": 37,
     "metadata": {},
     "output_type": "execute_result"
    }
   ],
   "source": [
    "df_songs = pd.DataFrame(dict_songs)\n",
    "df_songs"
   ]
  },
  {
   "cell_type": "markdown",
   "metadata": {},
   "source": [
    "Pretty good, right? In what concern web scraping our job is done but as data scientists we need to do our best to have clean data and the most complete and right information. No trash in, trash out! So, there are just little things we need to fix.\n",
    "\n",
    "First, the first movie of the James Bond franchise, `Dr. No`, has two themes. However, we have information only about the performer of the 1st theme. In addition, formally [Monty Norman](https://en.wikipedia.org/wiki/James_Bond_Theme) is the composer of both James Bond theme and Kingston Calypso.\n",
    "\n",
    "Second, in some items we find `o.l.v` that means in Dutch `onder leiding van` which we can translate to `led by`.\n",
    "\n",
    "At last, the `Year` of the last film is 2021 as in the films table. The film was supposed to be released in 2020 but due to COVID it will be released in 2021."
   ]
  },
  {
   "cell_type": "code",
   "execution_count": 38,
   "metadata": {},
   "outputs": [],
   "source": [
    "df_songs['Theme Song'].iloc[0] =\"James Bond Theme / Kingston Calypso\"\n",
    "df_songs['Composer'].iloc[0] = 'Monty Norman / Byron Lee and the Dragonaires'\n",
    "\n",
    "# replace 'o.l.v.'' by 'led by'\n",
    "df_songs['Performer'] = df_songs['Performer'].apply(lambda x : x.replace('o.l.v.','led by'))\n",
    "\n",
    "# correct year of last move\n",
    "df_songs['Year'].iloc[24] = '2021'"
   ]
  },
  {
   "cell_type": "code",
   "execution_count": 39,
   "metadata": {
    "scrolled": true
   },
   "outputs": [
    {
     "data": {
      "text/html": [
       "<div>\n",
       "<style scoped>\n",
       "    .dataframe tbody tr th:only-of-type {\n",
       "        vertical-align: middle;\n",
       "    }\n",
       "\n",
       "    .dataframe tbody tr th {\n",
       "        vertical-align: top;\n",
       "    }\n",
       "\n",
       "    .dataframe thead th {\n",
       "        text-align: right;\n",
       "    }\n",
       "</style>\n",
       "<table border=\"1\" class=\"dataframe\">\n",
       "  <thead>\n",
       "    <tr style=\"text-align: right;\">\n",
       "      <th></th>\n",
       "      <th>Theme Song</th>\n",
       "      <th>Performer</th>\n",
       "      <th>Film Title</th>\n",
       "      <th>Year</th>\n",
       "      <th>Composer</th>\n",
       "    </tr>\n",
       "  </thead>\n",
       "  <tbody>\n",
       "    <tr>\n",
       "      <th>0</th>\n",
       "      <td>James Bond Theme / Kingston Calypso</td>\n",
       "      <td>Orkest led by John Barry</td>\n",
       "      <td>Dr. No</td>\n",
       "      <td>1962</td>\n",
       "      <td>Monty Norman / Byron Lee and the Dragonaires</td>\n",
       "    </tr>\n",
       "    <tr>\n",
       "      <th>1</th>\n",
       "      <td>From Russia with Love</td>\n",
       "      <td>Matt Monro</td>\n",
       "      <td>From Russia with Love</td>\n",
       "      <td>1963</td>\n",
       "      <td>John Barry &amp; Lionel Bart</td>\n",
       "    </tr>\n",
       "    <tr>\n",
       "      <th>2</th>\n",
       "      <td>Goldfinger</td>\n",
       "      <td>Shirley Bassey</td>\n",
       "      <td>Goldfinger</td>\n",
       "      <td>1964</td>\n",
       "      <td>John Barry &amp; Anthony Newley &amp; Leslie Bricusse</td>\n",
       "    </tr>\n",
       "    <tr>\n",
       "      <th>3</th>\n",
       "      <td>Thunderball</td>\n",
       "      <td>Tom Jones</td>\n",
       "      <td>Thunderball</td>\n",
       "      <td>1965</td>\n",
       "      <td>John Barry &amp; Don Black</td>\n",
       "    </tr>\n",
       "    <tr>\n",
       "      <th>4</th>\n",
       "      <td>You Only Live Twice</td>\n",
       "      <td>Nancy Sinatra</td>\n",
       "      <td>You Only Live Twice</td>\n",
       "      <td>1967</td>\n",
       "      <td>John Barry &amp; Leslie Bricusse</td>\n",
       "    </tr>\n",
       "    <tr>\n",
       "      <th>5</th>\n",
       "      <td>On Her Majesty's Secret Service</td>\n",
       "      <td>Orkest led by John Barry</td>\n",
       "      <td>On Her Majesty's Secret Service</td>\n",
       "      <td>1969</td>\n",
       "      <td>John Barry</td>\n",
       "    </tr>\n",
       "    <tr>\n",
       "      <th>6</th>\n",
       "      <td>Diamonds Are Forever</td>\n",
       "      <td>Shirley Bassey</td>\n",
       "      <td>Diamonds Are Forever</td>\n",
       "      <td>1971</td>\n",
       "      <td>John Barry &amp; Don Black</td>\n",
       "    </tr>\n",
       "    <tr>\n",
       "      <th>7</th>\n",
       "      <td>Live and Let Die</td>\n",
       "      <td>Paul McCartney &amp; Wings</td>\n",
       "      <td>Live and Let Die</td>\n",
       "      <td>1973</td>\n",
       "      <td>Paul McCartney &amp; Linda McCartney</td>\n",
       "    </tr>\n",
       "    <tr>\n",
       "      <th>8</th>\n",
       "      <td>The Man with the Golden Gun</td>\n",
       "      <td>Lulu</td>\n",
       "      <td>The Man with the Golden Gun</td>\n",
       "      <td>1974</td>\n",
       "      <td>John Barry &amp; Don Black</td>\n",
       "    </tr>\n",
       "    <tr>\n",
       "      <th>9</th>\n",
       "      <td>Nobody Does It Better</td>\n",
       "      <td>Carly Simon</td>\n",
       "      <td>The Spy Who Loved Me</td>\n",
       "      <td>1977</td>\n",
       "      <td>Marvin Hamlisch &amp; Carole Bayer Sager</td>\n",
       "    </tr>\n",
       "    <tr>\n",
       "      <th>10</th>\n",
       "      <td>Moonraker</td>\n",
       "      <td>Shirley Bassey</td>\n",
       "      <td>Moonraker</td>\n",
       "      <td>1979</td>\n",
       "      <td>John Barry &amp; Hal David</td>\n",
       "    </tr>\n",
       "    <tr>\n",
       "      <th>11</th>\n",
       "      <td>For Your Eyes Only</td>\n",
       "      <td>Sheena Easton</td>\n",
       "      <td>For Your Eyes Only</td>\n",
       "      <td>1981</td>\n",
       "      <td>Bill Conti &amp; Michael Leeson</td>\n",
       "    </tr>\n",
       "    <tr>\n",
       "      <th>12</th>\n",
       "      <td>All Time High</td>\n",
       "      <td>Rita Coolidge</td>\n",
       "      <td>Octopussy</td>\n",
       "      <td>1983</td>\n",
       "      <td>John Barry, Tim Rice &amp; Stephen Short</td>\n",
       "    </tr>\n",
       "    <tr>\n",
       "      <th>13</th>\n",
       "      <td>A View to a Kill</td>\n",
       "      <td>Duran Duran</td>\n",
       "      <td>A View to a Kill</td>\n",
       "      <td>1985</td>\n",
       "      <td>John Barry</td>\n",
       "    </tr>\n",
       "    <tr>\n",
       "      <th>14</th>\n",
       "      <td>The Living Daylights</td>\n",
       "      <td>a-ha</td>\n",
       "      <td>The Living Daylights</td>\n",
       "      <td>1987</td>\n",
       "      <td>John Barry &amp; Pål Waaktaar</td>\n",
       "    </tr>\n",
       "    <tr>\n",
       "      <th>15</th>\n",
       "      <td>Licence to Kill</td>\n",
       "      <td>Gladys Knight</td>\n",
       "      <td>Licence to Kill</td>\n",
       "      <td>1989</td>\n",
       "      <td>N. Michael Walden, Jeffrey Cohen &amp; Walter Afan...</td>\n",
       "    </tr>\n",
       "    <tr>\n",
       "      <th>16</th>\n",
       "      <td>GoldenEye</td>\n",
       "      <td>Tina Turner</td>\n",
       "      <td>GoldenEye</td>\n",
       "      <td>1995</td>\n",
       "      <td>Bono &amp; The Edge</td>\n",
       "    </tr>\n",
       "    <tr>\n",
       "      <th>17</th>\n",
       "      <td>Tomorrow Never Dies</td>\n",
       "      <td>Sheryl Crow</td>\n",
       "      <td>Tomorrow Never Dies</td>\n",
       "      <td>1997</td>\n",
       "      <td>Sheryl Crow &amp; Mitchell Froom</td>\n",
       "    </tr>\n",
       "    <tr>\n",
       "      <th>18</th>\n",
       "      <td>The World Is Not Enough</td>\n",
       "      <td>Garbage</td>\n",
       "      <td>The World Is Not Enough</td>\n",
       "      <td>1999</td>\n",
       "      <td>David Arnold &amp; Don Black</td>\n",
       "    </tr>\n",
       "    <tr>\n",
       "      <th>19</th>\n",
       "      <td>Die Another Day</td>\n",
       "      <td>Madonna</td>\n",
       "      <td>Die Another Day</td>\n",
       "      <td>2002</td>\n",
       "      <td>Madonna &amp; Mirwais Ahmadzaï</td>\n",
       "    </tr>\n",
       "    <tr>\n",
       "      <th>20</th>\n",
       "      <td>You Know My Name</td>\n",
       "      <td>Chris Cornell</td>\n",
       "      <td>Casino Royale</td>\n",
       "      <td>2006</td>\n",
       "      <td>David Arnold &amp; Chris Cornell</td>\n",
       "    </tr>\n",
       "    <tr>\n",
       "      <th>21</th>\n",
       "      <td>Another Way to Die</td>\n",
       "      <td>Alicia Keys &amp; Jack White</td>\n",
       "      <td>Quantum of Solace</td>\n",
       "      <td>2008</td>\n",
       "      <td>Jack White</td>\n",
       "    </tr>\n",
       "    <tr>\n",
       "      <th>22</th>\n",
       "      <td>Skyfall</td>\n",
       "      <td>Adele</td>\n",
       "      <td>Skyfall</td>\n",
       "      <td>2012</td>\n",
       "      <td>Adele &amp; Paul Epworth</td>\n",
       "    </tr>\n",
       "    <tr>\n",
       "      <th>23</th>\n",
       "      <td>Writing's On The Wall</td>\n",
       "      <td>Sam Smith</td>\n",
       "      <td>Spectre</td>\n",
       "      <td>2015</td>\n",
       "      <td>Sam Smith &amp; Jimmy Napes</td>\n",
       "    </tr>\n",
       "    <tr>\n",
       "      <th>24</th>\n",
       "      <td>No Time to Die</td>\n",
       "      <td>Billie Eilish</td>\n",
       "      <td>No Time to Die</td>\n",
       "      <td>2021</td>\n",
       "      <td>Billie Eilish &amp; Finneas O'Connell</td>\n",
       "    </tr>\n",
       "  </tbody>\n",
       "</table>\n",
       "</div>"
      ],
      "text/plain": [
       "                             Theme Song                 Performer  \\\n",
       "0   James Bond Theme / Kingston Calypso  Orkest led by John Barry   \n",
       "1                 From Russia with Love                Matt Monro   \n",
       "2                            Goldfinger            Shirley Bassey   \n",
       "3                           Thunderball                 Tom Jones   \n",
       "4                   You Only Live Twice             Nancy Sinatra   \n",
       "5       On Her Majesty's Secret Service  Orkest led by John Barry   \n",
       "6                  Diamonds Are Forever            Shirley Bassey   \n",
       "7                      Live and Let Die    Paul McCartney & Wings   \n",
       "8           The Man with the Golden Gun                      Lulu   \n",
       "9                 Nobody Does It Better               Carly Simon   \n",
       "10                            Moonraker            Shirley Bassey   \n",
       "11                   For Your Eyes Only             Sheena Easton   \n",
       "12                        All Time High             Rita Coolidge   \n",
       "13                     A View to a Kill               Duran Duran   \n",
       "14                 The Living Daylights                      a-ha   \n",
       "15                      Licence to Kill             Gladys Knight   \n",
       "16                            GoldenEye               Tina Turner   \n",
       "17                  Tomorrow Never Dies               Sheryl Crow   \n",
       "18              The World Is Not Enough                   Garbage   \n",
       "19                      Die Another Day                   Madonna   \n",
       "20                     You Know My Name             Chris Cornell   \n",
       "21                   Another Way to Die  Alicia Keys & Jack White   \n",
       "22                              Skyfall                     Adele   \n",
       "23                Writing's On The Wall                 Sam Smith   \n",
       "24                       No Time to Die             Billie Eilish   \n",
       "\n",
       "                         Film Title  Year  \\\n",
       "0                            Dr. No  1962   \n",
       "1             From Russia with Love  1963   \n",
       "2                        Goldfinger  1964   \n",
       "3                       Thunderball  1965   \n",
       "4               You Only Live Twice  1967   \n",
       "5   On Her Majesty's Secret Service  1969   \n",
       "6              Diamonds Are Forever  1971   \n",
       "7                  Live and Let Die  1973   \n",
       "8       The Man with the Golden Gun  1974   \n",
       "9              The Spy Who Loved Me  1977   \n",
       "10                        Moonraker  1979   \n",
       "11               For Your Eyes Only  1981   \n",
       "12                        Octopussy  1983   \n",
       "13                 A View to a Kill  1985   \n",
       "14             The Living Daylights  1987   \n",
       "15                  Licence to Kill  1989   \n",
       "16                        GoldenEye  1995   \n",
       "17              Tomorrow Never Dies  1997   \n",
       "18          The World Is Not Enough  1999   \n",
       "19                  Die Another Day  2002   \n",
       "20                    Casino Royale  2006   \n",
       "21                Quantum of Solace  2008   \n",
       "22                          Skyfall  2012   \n",
       "23                          Spectre  2015   \n",
       "24                   No Time to Die  2021   \n",
       "\n",
       "                                             Composer  \n",
       "0        Monty Norman / Byron Lee and the Dragonaires  \n",
       "1                            John Barry & Lionel Bart  \n",
       "2       John Barry & Anthony Newley & Leslie Bricusse  \n",
       "3                              John Barry & Don Black  \n",
       "4                        John Barry & Leslie Bricusse  \n",
       "5                                          John Barry  \n",
       "6                              John Barry & Don Black  \n",
       "7                    Paul McCartney & Linda McCartney  \n",
       "8                              John Barry & Don Black  \n",
       "9                Marvin Hamlisch & Carole Bayer Sager  \n",
       "10                             John Barry & Hal David  \n",
       "11                        Bill Conti & Michael Leeson  \n",
       "12               John Barry, Tim Rice & Stephen Short  \n",
       "13                                         John Barry  \n",
       "14                          John Barry & Pål Waaktaar  \n",
       "15  N. Michael Walden, Jeffrey Cohen & Walter Afan...  \n",
       "16                                    Bono & The Edge  \n",
       "17                       Sheryl Crow & Mitchell Froom  \n",
       "18                           David Arnold & Don Black  \n",
       "19                         Madonna & Mirwais Ahmadzaï  \n",
       "20                       David Arnold & Chris Cornell  \n",
       "21                                         Jack White  \n",
       "22                               Adele & Paul Epworth  \n",
       "23                            Sam Smith & Jimmy Napes  \n",
       "24                  Billie Eilish & Finneas O'Connell  "
      ]
     },
     "execution_count": 39,
     "metadata": {},
     "output_type": "execute_result"
    }
   ],
   "source": [
    "df_songs"
   ]
  },
  {
   "cell_type": "markdown",
   "metadata": {},
   "source": [
    "To put all together let's check if columns `Film Title` in both films and songs dataframe are equal. Remember that the 1st movie has 2 entries in `df_songs`."
   ]
  },
  {
   "cell_type": "code",
   "execution_count": 40,
   "metadata": {},
   "outputs": [
    {
     "data": {
      "text/plain": [
       "True"
      ]
     },
     "execution_count": 40,
     "metadata": {},
     "output_type": "execute_result"
    }
   ],
   "source": [
    "df_films['Film Title'].equals(df_songs['Film Title'])"
   ]
  },
  {
   "cell_type": "code",
   "execution_count": 41,
   "metadata": {
    "scrolled": false
   },
   "outputs": [
    {
     "data": {
      "text/html": [
       "<div>\n",
       "<style scoped>\n",
       "    .dataframe tbody tr th:only-of-type {\n",
       "        vertical-align: middle;\n",
       "    }\n",
       "\n",
       "    .dataframe tbody tr th {\n",
       "        vertical-align: top;\n",
       "    }\n",
       "\n",
       "    .dataframe thead th {\n",
       "        text-align: right;\n",
       "    }\n",
       "</style>\n",
       "<table border=\"1\" class=\"dataframe\">\n",
       "  <thead>\n",
       "    <tr style=\"text-align: right;\">\n",
       "      <th></th>\n",
       "      <th>Film Title</th>\n",
       "      <th>Year</th>\n",
       "      <th>Bond actor</th>\n",
       "      <th>Director</th>\n",
       "      <th>Box office (millions) Actual $</th>\n",
       "      <th>Box office (millions) Adjusted 2005 $</th>\n",
       "      <th>Budget (millions) Actual $</th>\n",
       "      <th>Budget (millions) Adjusted 2005 $</th>\n",
       "      <th>Theme Song</th>\n",
       "      <th>Performer</th>\n",
       "      <th>Composer</th>\n",
       "    </tr>\n",
       "  </thead>\n",
       "  <tbody>\n",
       "    <tr>\n",
       "      <th>0</th>\n",
       "      <td>Dr. No</td>\n",
       "      <td>1962</td>\n",
       "      <td>Sean Connery</td>\n",
       "      <td>Terence Young</td>\n",
       "      <td>59.5</td>\n",
       "      <td>448.8</td>\n",
       "      <td>1.1</td>\n",
       "      <td>7.0</td>\n",
       "      <td>James Bond Theme / Kingston Calypso</td>\n",
       "      <td>Orkest led by John Barry</td>\n",
       "      <td>Monty Norman / Byron Lee and the Dragonaires</td>\n",
       "    </tr>\n",
       "    <tr>\n",
       "      <th>1</th>\n",
       "      <td>From Russia with Love</td>\n",
       "      <td>1963</td>\n",
       "      <td>Sean Connery</td>\n",
       "      <td>Terence Young</td>\n",
       "      <td>78.9</td>\n",
       "      <td>543.8</td>\n",
       "      <td>2.0</td>\n",
       "      <td>12.6</td>\n",
       "      <td>From Russia with Love</td>\n",
       "      <td>Matt Monro</td>\n",
       "      <td>John Barry &amp; Lionel Bart</td>\n",
       "    </tr>\n",
       "    <tr>\n",
       "      <th>2</th>\n",
       "      <td>Goldfinger</td>\n",
       "      <td>1964</td>\n",
       "      <td>Sean Connery</td>\n",
       "      <td>Guy Hamilton</td>\n",
       "      <td>124.9</td>\n",
       "      <td>820.4</td>\n",
       "      <td>3.0</td>\n",
       "      <td>18.6</td>\n",
       "      <td>Goldfinger</td>\n",
       "      <td>Shirley Bassey</td>\n",
       "      <td>John Barry &amp; Anthony Newley &amp; Leslie Bricusse</td>\n",
       "    </tr>\n",
       "    <tr>\n",
       "      <th>3</th>\n",
       "      <td>Thunderball</td>\n",
       "      <td>1965</td>\n",
       "      <td>Sean Connery</td>\n",
       "      <td>Terence Young</td>\n",
       "      <td>141.2</td>\n",
       "      <td>848.1</td>\n",
       "      <td>6.8</td>\n",
       "      <td>41.9</td>\n",
       "      <td>Thunderball</td>\n",
       "      <td>Tom Jones</td>\n",
       "      <td>John Barry &amp; Don Black</td>\n",
       "    </tr>\n",
       "    <tr>\n",
       "      <th>4</th>\n",
       "      <td>You Only Live Twice</td>\n",
       "      <td>1967</td>\n",
       "      <td>Sean Connery</td>\n",
       "      <td>Lewis Gilbert</td>\n",
       "      <td>111.6</td>\n",
       "      <td>514.2</td>\n",
       "      <td>10.3</td>\n",
       "      <td>59.9</td>\n",
       "      <td>You Only Live Twice</td>\n",
       "      <td>Nancy Sinatra</td>\n",
       "      <td>John Barry &amp; Leslie Bricusse</td>\n",
       "    </tr>\n",
       "  </tbody>\n",
       "</table>\n",
       "</div>"
      ],
      "text/plain": [
       "              Film Title  Year    Bond actor       Director  \\\n",
       "0                 Dr. No  1962  Sean Connery  Terence Young   \n",
       "1  From Russia with Love  1963  Sean Connery  Terence Young   \n",
       "2             Goldfinger  1964  Sean Connery   Guy Hamilton   \n",
       "3            Thunderball  1965  Sean Connery  Terence Young   \n",
       "4    You Only Live Twice  1967  Sean Connery  Lewis Gilbert   \n",
       "\n",
       "  Box office (millions) Actual $ Box office (millions) Adjusted 2005 $  \\\n",
       "0                           59.5                                 448.8   \n",
       "1                           78.9                                 543.8   \n",
       "2                          124.9                                 820.4   \n",
       "3                          141.2                                 848.1   \n",
       "4                          111.6                                 514.2   \n",
       "\n",
       "  Budget (millions) Actual $ Budget (millions) Adjusted 2005 $  \\\n",
       "0                        1.1                               7.0   \n",
       "1                        2.0                              12.6   \n",
       "2                        3.0                              18.6   \n",
       "3                        6.8                              41.9   \n",
       "4                       10.3                              59.9   \n",
       "\n",
       "                            Theme Song                 Performer  \\\n",
       "0  James Bond Theme / Kingston Calypso  Orkest led by John Barry   \n",
       "1                From Russia with Love                Matt Monro   \n",
       "2                           Goldfinger            Shirley Bassey   \n",
       "3                          Thunderball                 Tom Jones   \n",
       "4                  You Only Live Twice             Nancy Sinatra   \n",
       "\n",
       "                                        Composer  \n",
       "0   Monty Norman / Byron Lee and the Dragonaires  \n",
       "1                       John Barry & Lionel Bart  \n",
       "2  John Barry & Anthony Newley & Leslie Bricusse  \n",
       "3                         John Barry & Don Black  \n",
       "4                   John Barry & Leslie Bricusse  "
      ]
     },
     "execution_count": 41,
     "metadata": {},
     "output_type": "execute_result"
    }
   ],
   "source": [
    "df_films_songs = df_films.merge(df_songs, on = ['Film Title', 'Year'])\n",
    "\n",
    "df_films_songs.head()"
   ]
  },
  {
   "cell_type": "markdown",
   "metadata": {},
   "source": [
    "Now that you have your data all together you can answer some questions. For instances:\n",
    "\n",
    "❔ **Which actor performed James Bond more times?**"
   ]
  },
  {
   "cell_type": "code",
   "execution_count": 42,
   "metadata": {},
   "outputs": [],
   "source": [
    "import matplotlib.pyplot as plt\n",
    "import seaborn as sns"
   ]
  },
  {
   "cell_type": "code",
   "execution_count": 43,
   "metadata": {},
   "outputs": [
    {
     "data": {
      "text/plain": [
       "Text(0.5, 1.0, \"Actors by Order of How Many Times he Performed 'James Bond'\")"
      ]
     },
     "execution_count": 43,
     "metadata": {},
     "output_type": "execute_result"
    },
    {
     "data": {
      "image/png": "[encoded data removed]",
      "text/plain": [
       "<Figure size 432x288 with 1 Axes>"
      ]
     },
     "metadata": {
      "needs_background": "light"
     },
     "output_type": "display_data"
    }
   ],
   "source": [
    "plt.figure(figsize=(6,4))\n",
    "sns.countplot(y=df_films_songs['Bond actor'], order = df_films_songs['Bond actor'].value_counts().index)\n",
    "plt.title(\"Actors by Order of How Many Times he Performed 'James Bond'\")"
   ]
  },
  {
   "cell_type": "code",
   "execution_count": 44,
   "metadata": {
    "scrolled": false
   },
   "outputs": [
    {
     "data": {
      "text/plain": [
       "Roger Moore       7\n",
       "Sean Connery      6\n",
       "Daniel Craig      5\n",
       "Pierce Brosnan    4\n",
       "Timothy Dalton    2\n",
       "George Lazenby    1\n",
       "Name: Bond actor, dtype: int64"
      ]
     },
     "execution_count": 44,
     "metadata": {},
     "output_type": "execute_result"
    }
   ],
   "source": [
    "df_films_songs['Bond actor'].value_counts()"
   ]
  },
  {
   "cell_type": "markdown",
   "metadata": {},
   "source": [
    "As we can see, `Roger Moore` performed the 007 agente more times, followed by `Sean Connery`. If `Daniel Craig` goes on for 2 more movies he will replace Roger Moore."
   ]
  },
  {
   "cell_type": "markdown",
   "metadata": {},
   "source": [
    "❔ **What was the Box Office and Budget of the James Bond franchise movies ?**\n",
    "\n",
    "For this we need some cleaning first."
   ]
  },
  {
   "cell_type": "code",
   "execution_count": 45,
   "metadata": {},
   "outputs": [
    {
     "name": "stdout",
     "output_type": "stream",
     "text": [
      "<class 'pandas.core.frame.DataFrame'>\n",
      "Int64Index: 25 entries, 0 to 24\n",
      "Data columns (total 11 columns):\n",
      " #   Column                                 Non-Null Count  Dtype \n",
      "---  ------                                 --------------  ----- \n",
      " 0   Film Title                             25 non-null     object\n",
      " 1   Year                                   25 non-null     object\n",
      " 2   Bond actor                             25 non-null     object\n",
      " 3   Director                               25 non-null     object\n",
      " 4   Box office (millions) Actual $         25 non-null     object\n",
      " 5   Box office (millions) Adjusted 2005 $  25 non-null     object\n",
      " 6   Budget (millions) Actual $             25 non-null     object\n",
      " 7   Budget (millions) Adjusted 2005 $      25 non-null     object\n",
      " 8   Theme Song                             25 non-null     object\n",
      " 9   Performer                              25 non-null     object\n",
      " 10  Composer                               25 non-null     object\n",
      "dtypes: object(11)\n",
      "memory usage: 3.0+ KB\n"
     ]
    }
   ],
   "source": [
    "df_films_songs.info()"
   ]
  },
  {
   "cell_type": "markdown",
   "metadata": {},
   "source": [
    "`Features Box office (millions) Actual $`, `Box office (millions) Adjusted 2005 $`, `Budget (millions) Actual $`,`Budget (millions) Adjusted 2005 $` are `object` type when they should be `float`. This happened because of `TBD` (meaning To Be Defined) and the values given as intervals in indexes 22 and 23 of `Budget (millions) Actual $` and `Budget (millions) Adjusted 2005 $`.\n",
    "\n",
    "First, let's replace `TBD` by 0.00 since the film will be released in 2021.\n",
    "\n",
    "Second, let's replace the interval of values by it's mean."
   ]
  },
  {
   "cell_type": "code",
   "execution_count": 46,
   "metadata": {},
   "outputs": [],
   "source": [
    "df_films_songs = df_films_songs.replace('TBD',0.00)"
   ]
  },
  {
   "cell_type": "code",
   "execution_count": 47,
   "metadata": {},
   "outputs": [],
   "source": [
    "def calculate_mean(interval_str):\n",
    "    \"\"\" Calculate mean of a and b where a and b are in the expression `a-b` (string) \"\"\"\n",
    "    \n",
    "    interval_str = interval_str.replace('[b]','')\n",
    "    \n",
    "    a = float(interval_str.split('–')[0])\n",
    "    b = float(interval_str.split('–')[1])\n",
    "    \n",
    "    return round((a + b/2),2)"
   ]
  },
  {
   "cell_type": "code",
   "execution_count": 48,
   "metadata": {},
   "outputs": [
    {
     "data": {
      "text/plain": [
       "Index(['Film Title', 'Year', 'Bond actor', 'Director',\n",
       "       'Box office (millions) Actual $',\n",
       "       'Box office (millions) Adjusted 2005 $', 'Budget (millions) Actual $',\n",
       "       'Budget (millions) Adjusted 2005 $', 'Theme Song', 'Performer',\n",
       "       'Composer'],\n",
       "      dtype='object')"
      ]
     },
     "execution_count": 48,
     "metadata": {},
     "output_type": "execute_result"
    }
   ],
   "source": [
    "df_films_songs.columns"
   ]
  },
  {
   "cell_type": "code",
   "execution_count": 49,
   "metadata": {},
   "outputs": [],
   "source": [
    "for idx in range(22,24):\n",
    "    \n",
    "    df_films_songs.loc[idx,'Budget (millions) Actual $'] = calculate_mean(df_films_songs.loc[idx,'Budget (millions) Actual $'])\n",
    "    df_films_songs.loc[idx,'Budget (millions) Adjusted 2005 $'] = calculate_mean(df_films_songs.loc[idx,'Budget (millions) Adjusted 2005 $'])"
   ]
  },
  {
   "cell_type": "code",
   "execution_count": 50,
   "metadata": {},
   "outputs": [
    {
     "data": {
      "text/html": [
       "<div>\n",
       "<style scoped>\n",
       "    .dataframe tbody tr th:only-of-type {\n",
       "        vertical-align: middle;\n",
       "    }\n",
       "\n",
       "    .dataframe tbody tr th {\n",
       "        vertical-align: top;\n",
       "    }\n",
       "\n",
       "    .dataframe thead th {\n",
       "        text-align: right;\n",
       "    }\n",
       "</style>\n",
       "<table border=\"1\" class=\"dataframe\">\n",
       "  <thead>\n",
       "    <tr style=\"text-align: right;\">\n",
       "      <th></th>\n",
       "      <th>Film Title</th>\n",
       "      <th>Year</th>\n",
       "      <th>Bond actor</th>\n",
       "      <th>Director</th>\n",
       "      <th>Box office (millions) Actual $</th>\n",
       "      <th>Box office (millions) Adjusted 2005 $</th>\n",
       "      <th>Budget (millions) Actual $</th>\n",
       "      <th>Budget (millions) Adjusted 2005 $</th>\n",
       "      <th>Theme Song</th>\n",
       "      <th>Performer</th>\n",
       "      <th>Composer</th>\n",
       "    </tr>\n",
       "  </thead>\n",
       "  <tbody>\n",
       "    <tr>\n",
       "      <th>0</th>\n",
       "      <td>Dr. No</td>\n",
       "      <td>1962</td>\n",
       "      <td>Sean Connery</td>\n",
       "      <td>Terence Young</td>\n",
       "      <td>59.5</td>\n",
       "      <td>448.8</td>\n",
       "      <td>1.1</td>\n",
       "      <td>7.0</td>\n",
       "      <td>James Bond Theme / Kingston Calypso</td>\n",
       "      <td>Orkest led by John Barry</td>\n",
       "      <td>Monty Norman / Byron Lee and the Dragonaires</td>\n",
       "    </tr>\n",
       "    <tr>\n",
       "      <th>1</th>\n",
       "      <td>From Russia with Love</td>\n",
       "      <td>1963</td>\n",
       "      <td>Sean Connery</td>\n",
       "      <td>Terence Young</td>\n",
       "      <td>78.9</td>\n",
       "      <td>543.8</td>\n",
       "      <td>2.0</td>\n",
       "      <td>12.6</td>\n",
       "      <td>From Russia with Love</td>\n",
       "      <td>Matt Monro</td>\n",
       "      <td>John Barry &amp; Lionel Bart</td>\n",
       "    </tr>\n",
       "    <tr>\n",
       "      <th>2</th>\n",
       "      <td>Goldfinger</td>\n",
       "      <td>1964</td>\n",
       "      <td>Sean Connery</td>\n",
       "      <td>Guy Hamilton</td>\n",
       "      <td>124.9</td>\n",
       "      <td>820.4</td>\n",
       "      <td>3.0</td>\n",
       "      <td>18.6</td>\n",
       "      <td>Goldfinger</td>\n",
       "      <td>Shirley Bassey</td>\n",
       "      <td>John Barry &amp; Anthony Newley &amp; Leslie Bricusse</td>\n",
       "    </tr>\n",
       "    <tr>\n",
       "      <th>3</th>\n",
       "      <td>Thunderball</td>\n",
       "      <td>1965</td>\n",
       "      <td>Sean Connery</td>\n",
       "      <td>Terence Young</td>\n",
       "      <td>141.2</td>\n",
       "      <td>848.1</td>\n",
       "      <td>6.8</td>\n",
       "      <td>41.9</td>\n",
       "      <td>Thunderball</td>\n",
       "      <td>Tom Jones</td>\n",
       "      <td>John Barry &amp; Don Black</td>\n",
       "    </tr>\n",
       "    <tr>\n",
       "      <th>4</th>\n",
       "      <td>You Only Live Twice</td>\n",
       "      <td>1967</td>\n",
       "      <td>Sean Connery</td>\n",
       "      <td>Lewis Gilbert</td>\n",
       "      <td>111.6</td>\n",
       "      <td>514.2</td>\n",
       "      <td>10.3</td>\n",
       "      <td>59.9</td>\n",
       "      <td>You Only Live Twice</td>\n",
       "      <td>Nancy Sinatra</td>\n",
       "      <td>John Barry &amp; Leslie Bricusse</td>\n",
       "    </tr>\n",
       "  </tbody>\n",
       "</table>\n",
       "</div>"
      ],
      "text/plain": [
       "              Film Title  Year    Bond actor       Director  \\\n",
       "0                 Dr. No  1962  Sean Connery  Terence Young   \n",
       "1  From Russia with Love  1963  Sean Connery  Terence Young   \n",
       "2             Goldfinger  1964  Sean Connery   Guy Hamilton   \n",
       "3            Thunderball  1965  Sean Connery  Terence Young   \n",
       "4    You Only Live Twice  1967  Sean Connery  Lewis Gilbert   \n",
       "\n",
       "  Box office (millions) Actual $ Box office (millions) Adjusted 2005 $  \\\n",
       "0                           59.5                                 448.8   \n",
       "1                           78.9                                 543.8   \n",
       "2                          124.9                                 820.4   \n",
       "3                          141.2                                 848.1   \n",
       "4                          111.6                                 514.2   \n",
       "\n",
       "  Budget (millions) Actual $ Budget (millions) Adjusted 2005 $  \\\n",
       "0                        1.1                               7.0   \n",
       "1                        2.0                              12.6   \n",
       "2                        3.0                              18.6   \n",
       "3                        6.8                              41.9   \n",
       "4                       10.3                              59.9   \n",
       "\n",
       "                            Theme Song                 Performer  \\\n",
       "0  James Bond Theme / Kingston Calypso  Orkest led by John Barry   \n",
       "1                From Russia with Love                Matt Monro   \n",
       "2                           Goldfinger            Shirley Bassey   \n",
       "3                          Thunderball                 Tom Jones   \n",
       "4                  You Only Live Twice             Nancy Sinatra   \n",
       "\n",
       "                                        Composer  \n",
       "0   Monty Norman / Byron Lee and the Dragonaires  \n",
       "1                       John Barry & Lionel Bart  \n",
       "2  John Barry & Anthony Newley & Leslie Bricusse  \n",
       "3                         John Barry & Don Black  \n",
       "4                   John Barry & Leslie Bricusse  "
      ]
     },
     "execution_count": 50,
     "metadata": {},
     "output_type": "execute_result"
    }
   ],
   "source": [
    "df_films_songs.head()"
   ]
  },
  {
   "cell_type": "code",
   "execution_count": 51,
   "metadata": {},
   "outputs": [],
   "source": [
    "for col in ['Box office (millions) Actual $','Box office (millions) Adjusted 2005 $', 'Budget (millions) Actual $',\n",
    "       'Budget (millions) Adjusted 2005 $']:\n",
    "    \n",
    "    df_films_songs[col] = df_films_songs[col].astype('float')"
   ]
  },
  {
   "cell_type": "code",
   "execution_count": 52,
   "metadata": {},
   "outputs": [
    {
     "name": "stdout",
     "output_type": "stream",
     "text": [
      "<class 'pandas.core.frame.DataFrame'>\n",
      "Int64Index: 25 entries, 0 to 24\n",
      "Data columns (total 11 columns):\n",
      " #   Column                                 Non-Null Count  Dtype  \n",
      "---  ------                                 --------------  -----  \n",
      " 0   Film Title                             25 non-null     object \n",
      " 1   Year                                   25 non-null     object \n",
      " 2   Bond actor                             25 non-null     object \n",
      " 3   Director                               25 non-null     object \n",
      " 4   Box office (millions) Actual $         25 non-null     float64\n",
      " 5   Box office (millions) Adjusted 2005 $  25 non-null     float64\n",
      " 6   Budget (millions) Actual $             25 non-null     float64\n",
      " 7   Budget (millions) Adjusted 2005 $      25 non-null     float64\n",
      " 8   Theme Song                             25 non-null     object \n",
      " 9   Performer                              25 non-null     object \n",
      " 10  Composer                               25 non-null     object \n",
      "dtypes: float64(4), object(7)\n",
      "memory usage: 3.0+ KB\n"
     ]
    }
   ],
   "source": [
    "df_films_songs.info()"
   ]
  },
  {
   "cell_type": "code",
   "execution_count": 53,
   "metadata": {},
   "outputs": [
    {
     "data": {
      "text/plain": [
       "<matplotlib.legend.Legend at 0x274b7cc8080>"
      ]
     },
     "execution_count": 53,
     "metadata": {},
     "output_type": "execute_result"
    },
    {
     "data": {
      "image/png": "[encoded data removed]",
      "text/plain": [
       "<Figure size 1080x1080 with 1 Axes>"
      ]
     },
     "metadata": {
      "needs_background": "light"
     },
     "output_type": "display_data"
    }
   ],
   "source": [
    "fig, ax1 = plt.subplots(figsize=(15, 15))\n",
    "tidy = df_films_songs.melt(id_vars='Film Title',  value_vars=['Box office (millions) Actual $',\n",
    "       'Box office (millions) Adjusted 2005 $', 'Budget (millions) Actual $',\n",
    "       'Budget (millions) Adjusted 2005 $']).rename(columns=str.title)\n",
    "sns.barplot(y='Film Title', x='Value', hue='Variable', data=tidy, ax=ax1)\n",
    "plt.title(\"Compare Box Office and Budget of Bond's films until 2008\", size=16)\n",
    "plt.legend(loc = \"center right\", title = \"\")\n"
   ]
  },
  {
   "cell_type": "markdown",
   "metadata": {},
   "source": [
    "Checking only actual values..."
   ]
  },
  {
   "cell_type": "code",
   "execution_count": 54,
   "metadata": {},
   "outputs": [
    {
     "data": {
      "text/plain": [
       "<matplotlib.legend.Legend at 0x274b7cdb908>"
      ]
     },
     "execution_count": 54,
     "metadata": {},
     "output_type": "execute_result"
    },
    {
     "data": {
      "image/png": "[encoded data removed]",
      "text/plain": [
       "<Figure size 1080x1080 with 1 Axes>"
      ]
     },
     "metadata": {
      "needs_background": "light"
     },
     "output_type": "display_data"
    }
   ],
   "source": [
    "fig, ax1 = plt.subplots(figsize=(15, 15))\n",
    "tidy = df_films_songs.melt(id_vars='Film Title',  value_vars=['Box office (millions) Actual $', 'Budget (millions) Actual $']).rename(columns=str.title)\n",
    "sns.barplot(y='Film Title', x='Value', hue='Variable', data=tidy, ax=ax1)\n",
    "plt.title(\"Compare Box Office and Budget of Bond's films until 2008\", size=16)\n",
    "plt.legend(loc = \"center right\", title = \"\")\n"
   ]
  },
  {
   "cell_type": "markdown",
   "metadata": {},
   "source": [
    "It seems that is pretty profitable, right? This video shows how the film industry make money and how taking Box Office as proxy for profit can be misleading https://www.youtube.com/watch?v=jRuc7YgZ_n8&feature=emb_logo"
   ]
  },
  {
   "cell_type": "markdown",
   "metadata": {},
   "source": [
    "❔ **Is there any performer that performed songs more than once?**"
   ]
  },
  {
   "cell_type": "code",
   "execution_count": 55,
   "metadata": {},
   "outputs": [
    {
     "data": {
      "text/plain": [
       "'Shirley Bassey'"
      ]
     },
     "execution_count": 55,
     "metadata": {},
     "output_type": "execute_result"
    }
   ],
   "source": [
    "df_films_songs['Performer'].value_counts()[df_films_songs['Performer'].value_counts().values > 1].index[0]"
   ]
  },
  {
   "cell_type": "markdown",
   "metadata": {},
   "source": [
    "**Which songs and in which years she song?**"
   ]
  },
  {
   "cell_type": "code",
   "execution_count": 56,
   "metadata": {},
   "outputs": [
    {
     "data": {
      "text/html": [
       "<div>\n",
       "<style scoped>\n",
       "    .dataframe tbody tr th:only-of-type {\n",
       "        vertical-align: middle;\n",
       "    }\n",
       "\n",
       "    .dataframe tbody tr th {\n",
       "        vertical-align: top;\n",
       "    }\n",
       "\n",
       "    .dataframe thead th {\n",
       "        text-align: right;\n",
       "    }\n",
       "</style>\n",
       "<table border=\"1\" class=\"dataframe\">\n",
       "  <thead>\n",
       "    <tr style=\"text-align: right;\">\n",
       "      <th></th>\n",
       "      <th>Theme Song</th>\n",
       "      <th>Performer</th>\n",
       "      <th>Year</th>\n",
       "    </tr>\n",
       "  </thead>\n",
       "  <tbody>\n",
       "    <tr>\n",
       "      <th>2</th>\n",
       "      <td>Goldfinger</td>\n",
       "      <td>Shirley Bassey</td>\n",
       "      <td>1964</td>\n",
       "    </tr>\n",
       "    <tr>\n",
       "      <th>6</th>\n",
       "      <td>Diamonds Are Forever</td>\n",
       "      <td>Shirley Bassey</td>\n",
       "      <td>1971</td>\n",
       "    </tr>\n",
       "    <tr>\n",
       "      <th>10</th>\n",
       "      <td>Moonraker</td>\n",
       "      <td>Shirley Bassey</td>\n",
       "      <td>1979</td>\n",
       "    </tr>\n",
       "  </tbody>\n",
       "</table>\n",
       "</div>"
      ],
      "text/plain": [
       "              Theme Song       Performer  Year\n",
       "2             Goldfinger  Shirley Bassey  1964\n",
       "6   Diamonds Are Forever  Shirley Bassey  1971\n",
       "10             Moonraker  Shirley Bassey  1979"
      ]
     },
     "execution_count": 56,
     "metadata": {},
     "output_type": "execute_result"
    }
   ],
   "source": [
    "df_films_songs[['Theme Song','Performer','Year']][df_films_songs['Performer']=='Shirley Bassey']"
   ]
  },
  {
   "cell_type": "markdown",
   "metadata": {},
   "source": [
    "# 🎶 Web Scraping Lyrics: How to Access Information within Hyperlinks\n",
    "\n",
    "To show how to scrape web pages within a webpage let's obtain lyrics of James Bond's theme songs.\n",
    "\n",
    "Here we will build a dataframe with song titles, performers, and lyrics.\n",
    "\n",
    "The website where I have found most of the lyrics was https://www.stlyrics.com/b/bestofbondjamesbond.htm\n",
    "\n",
    "At the beginning we saw that hyperlinks are associated with tags `<a>`. Inspecting the web page you can notice that the address of the hyperlink is pointed by the attribute `href`. So the code below does the job of retrieving all hyperlinks within `main_url` by finding all tags `a` and retrieving the contents of `href`."
   ]
  },
  {
   "cell_type": "code",
   "execution_count": 57,
   "metadata": {
    "code_folding": []
   },
   "outputs": [],
   "source": [
    "def retrieve_hyperlinks(main_url):\n",
    "    \"\"\" \n",
    "    Find hyperlinks in 'main_url' \n",
    "    \n",
    "    Args:\n",
    "        main_url: Main webpage containing hyperlink\n",
    "        \n",
    "    Return:\n",
    "        list of url: list of hyperlinks from main_url\n",
    "        \n",
    "    \"\"\"\n",
    "    # parse website containing hyperlinks\n",
    "    parser = parse_website(main_url)\n",
    "    \n",
    "    # Find all 'a' tags (which define hyperlinks): a_tags\n",
    "\n",
    "    a_tags = parser.find_all('a')\n",
    "\n",
    "    # Create a list with hyperlinks found\n",
    "\n",
    "    list_links = [link.get('href') for link in a_tags]\n",
    "\n",
    "    # Remove none values if there is some\n",
    "    \n",
    "    list_links = list(filter(None, list_links)) \n",
    "    \n",
    "    return list_links"
   ]
  },
  {
   "cell_type": "code",
   "execution_count": 58,
   "metadata": {},
   "outputs": [
    {
     "name": "stdout",
     "output_type": "stream",
     "text": [
      "\n",
      " Number of links before filtering: 109\n"
     ]
    },
    {
     "data": {
      "text/plain": [
       "['/lyrics/bestofbondjamesbond/foryoureyesonly.htm',\n",
       " '/lyrics/bestofbondjamesbond/nobodydoesitbetter.htm',\n",
       " '/dmca.htm',\n",
       " '/lyrics/bestofbondjamesbond/anotherwaytodie.htm',\n",
       " '/new.htm',\n",
       " '/songs/q.html',\n",
       " '/b.htm',\n",
       " '/v.htm',\n",
       " '/lyrics/bestofbondjamesbond/thelivingdaylights.htm',\n",
       " '/songs/d.html',\n",
       " '/k/kissingbooth2.htm',\n",
       " '/lyrics/bestofbondjamesbond/jamesbondtheme.htm',\n",
       " '/g.htm',\n",
       " '/songs/s.html',\n",
       " '/p/palmsprings.htm',\n",
       " '/songs/z.html',\n",
       " '/k/kingofstatenisland.htm',\n",
       " '/lyrics/bestofbondjamesbond/dieanotherday.htm',\n",
       " '/b/becoming.htm',\n",
       " '/songs/0-9.html']"
      ]
     },
     "execution_count": 58,
     "metadata": {},
     "output_type": "execute_result"
    }
   ],
   "source": [
    "main_url = \"https://www.stlyrics.com/b/bestofbondjamesbond.htm\"\n",
    "\n",
    "list_links = retrieve_hyperlinks(main_url)\n",
    "\n",
    "list_links = list(set(list_links))\n",
    "\n",
    "print('\\n Number of links before filtering:', len(list_links))\n",
    "list_links[:20]"
   ]
  },
  {
   "cell_type": "markdown",
   "metadata": {},
   "source": [
    "It seems that hyperlinks with lyrics have format `/lyrics/bestofbondjamesbond/titleofsong.htm`. So let's filter the above links based on this."
   ]
  },
  {
   "cell_type": "code",
   "execution_count": 59,
   "metadata": {
    "scrolled": true
   },
   "outputs": [
    {
     "name": "stdout",
     "output_type": "stream",
     "text": [
      "\n",
      " Number of links after filtering: 23\n"
     ]
    },
    {
     "data": {
      "text/plain": [
       "['/lyrics/bestofbondjamesbond/foryoureyesonly.htm',\n",
       " '/lyrics/bestofbondjamesbond/nobodydoesitbetter.htm',\n",
       " '/lyrics/bestofbondjamesbond/anotherwaytodie.htm',\n",
       " '/lyrics/bestofbondjamesbond/thelivingdaylights.htm',\n",
       " '/lyrics/bestofbondjamesbond/jamesbondtheme.htm',\n",
       " '/lyrics/bestofbondjamesbond/dieanotherday.htm',\n",
       " '/lyrics/bestofbondjamesbond/diamondsareforever.htm',\n",
       " '/lyrics/bestofbondjamesbond/thunderball.htm',\n",
       " '/lyrics/bestofbondjamesbond/goldfinger.htm',\n",
       " '/lyrics/bestofbondjamesbond/alltimehigh.htm',\n",
       " '/lyrics/bestofbondjamesbond/licencetokill.htm',\n",
       " '/lyrics/bestofbondjamesbond/youknowmyname.htm',\n",
       " '/lyrics/bestofbondjamesbond/moonraker.htm',\n",
       " '/lyrics/bestofbondjamesbond/themanwiththegoldengun.htm',\n",
       " '/lyrics/bestofbondjamesbond/aviewtoakill.htm',\n",
       " '/lyrics/bestofbondjamesbond/onhermajestyssecretservice.htm',\n",
       " '/lyrics/bestofbondjamesbond/theworldisnotenough.htm',\n",
       " '/lyrics/bestofbondjamesbond/liveandletdie.htm',\n",
       " '/lyrics/bestofbondjamesbond/youonlylivetwice.htm',\n",
       " '/lyrics/bestofbondjamesbond/fromrussiawithlove.htm',\n",
       " '/lyrics/bestofbondjamesbond/wehaveallthetimeintheworld.htm',\n",
       " '/lyrics/bestofbondjamesbond/goldeneye.htm',\n",
       " '/lyrics/bestofbondjamesbond/tomorrowneverdies.htm']"
      ]
     },
     "execution_count": 59,
     "metadata": {},
     "output_type": "execute_result"
    }
   ],
   "source": [
    "list_links = [link for link in list_links if 'bestofbondjamesbond' in link]\n",
    "print('\\n Number of links after filtering:', len(list_links))\n",
    "list_links"
   ]
  },
  {
   "cell_type": "code",
   "execution_count": 60,
   "metadata": {
    "scrolled": true
   },
   "outputs": [
    {
     "data": {
      "text/plain": [
       "['https://www.stlyrics.com/lyrics/bestofbondjamesbond/foryoureyesonly.htm',\n",
       " 'https://www.stlyrics.com/lyrics/bestofbondjamesbond/nobodydoesitbetter.htm',\n",
       " 'https://www.stlyrics.com/lyrics/bestofbondjamesbond/anotherwaytodie.htm',\n",
       " 'https://www.stlyrics.com/lyrics/bestofbondjamesbond/thelivingdaylights.htm',\n",
       " 'https://www.stlyrics.com/lyrics/bestofbondjamesbond/jamesbondtheme.htm',\n",
       " 'https://www.stlyrics.com/lyrics/bestofbondjamesbond/dieanotherday.htm',\n",
       " 'https://www.stlyrics.com/lyrics/bestofbondjamesbond/diamondsareforever.htm',\n",
       " 'https://www.stlyrics.com/lyrics/bestofbondjamesbond/thunderball.htm',\n",
       " 'https://www.stlyrics.com/lyrics/bestofbondjamesbond/goldfinger.htm',\n",
       " 'https://www.stlyrics.com/lyrics/bestofbondjamesbond/alltimehigh.htm',\n",
       " 'https://www.stlyrics.com/lyrics/bestofbondjamesbond/licencetokill.htm',\n",
       " 'https://www.stlyrics.com/lyrics/bestofbondjamesbond/youknowmyname.htm',\n",
       " 'https://www.stlyrics.com/lyrics/bestofbondjamesbond/moonraker.htm',\n",
       " 'https://www.stlyrics.com/lyrics/bestofbondjamesbond/themanwiththegoldengun.htm',\n",
       " 'https://www.stlyrics.com/lyrics/bestofbondjamesbond/aviewtoakill.htm',\n",
       " 'https://www.stlyrics.com/lyrics/bestofbondjamesbond/onhermajestyssecretservice.htm',\n",
       " 'https://www.stlyrics.com/lyrics/bestofbondjamesbond/theworldisnotenough.htm',\n",
       " 'https://www.stlyrics.com/lyrics/bestofbondjamesbond/liveandletdie.htm',\n",
       " 'https://www.stlyrics.com/lyrics/bestofbondjamesbond/youonlylivetwice.htm',\n",
       " 'https://www.stlyrics.com/lyrics/bestofbondjamesbond/fromrussiawithlove.htm',\n",
       " 'https://www.stlyrics.com/lyrics/bestofbondjamesbond/wehaveallthetimeintheworld.htm',\n",
       " 'https://www.stlyrics.com/lyrics/bestofbondjamesbond/goldeneye.htm',\n",
       " 'https://www.stlyrics.com/lyrics/bestofbondjamesbond/tomorrowneverdies.htm']"
      ]
     },
     "execution_count": 60,
     "metadata": {},
     "output_type": "execute_result"
    }
   ],
   "source": [
    "complete_urls = [\"https://www.stlyrics.com\"+link for link in list_links]\n",
    "complete_urls"
   ]
  },
  {
   "cell_type": "markdown",
   "metadata": {},
   "source": [
    "Let's check the 1st hyperlink:"
   ]
  },
  {
   "cell_type": "code",
   "execution_count": 61,
   "metadata": {},
   "outputs": [
    {
     "name": "stdout",
     "output_type": "stream",
     "text": [
      "https://www.stlyrics.com/lyrics/bestofbondjamesbond/foryoureyesonly.htm\n"
     ]
    }
   ],
   "source": [
    "lyrics_url = complete_urls[0]\n",
    "print(lyrics_url)"
   ]
  },
  {
   "cell_type": "markdown",
   "metadata": {},
   "source": [
    "If you inspect the code of the lyric you will notice that the text is located within the tag `<div class=\"highlight\"`. Then, the code below retrieves that 1st lyric."
   ]
  },
  {
   "cell_type": "code",
   "execution_count": 62,
   "metadata": {
    "scrolled": true
   },
   "outputs": [
    {
     "name": "stdout",
     "output_type": "stream",
     "text": [
      "For your eyes only\n",
      "Can see me through the night\n",
      "For your eyes only\n",
      "I never need to hide\n",
      "You can see so much in me\n",
      "So much in me that's new\n",
      "I never felt until I looked at you\n",
      "For your eyes only\n",
      "Only for you\n",
      "You'll see what no one else can see\n",
      "And now I'm breaking free\n",
      "For your eyes only\n",
      "Only for you\n",
      "The love I know you need in me\n",
      "The fantasy you've freed in me\n",
      "Only for you\n",
      "Only for you\n",
      "For your eyes only\n",
      "The nights are never cold\n",
      "You really know me\n",
      "That's all I need to know\n",
      "Maybe I'm an open book\n",
      "Because I know you're mine\n",
      "But you won't need to read between the lines\n",
      "For your eyes only\n",
      "Only for you\n",
      "You see what no one else can see\n",
      "And now I'm breaking free\n",
      "For your eyes only\n",
      "Only for you\n",
      "The passions that collide in me\n",
      "The wild abandoned side of me\n",
      "Only for you\n",
      "For your eyes only\n"
     ]
    }
   ],
   "source": [
    "# hyperlink to first lyric\n",
    "lyrics_url = complete_urls[0]\n",
    "\n",
    "# parse hyperlink\n",
    "parse_lyrics = parse_website(lyrics_url)\n",
    "\n",
    "# Access lyric\n",
    "lyrics_list = parse_lyrics.find_all('div', class_=\"highlight\")\n",
    "\n",
    "# extract the string within tags and remove any space at begin or end \n",
    "lyrics_list=[item.text.strip() for item in lyrics_list ]\n",
    "    \n",
    "# Remove none values if there is some\n",
    "lyrics_list = list(filter(None, lyrics_list)) \n",
    "\n",
    "print('\\n'.join(lyrics_list))"
   ]
  },
  {
   "cell_type": "markdown",
   "metadata": {},
   "source": [
    "Let's retrieve the lyrics within all hyperlinks."
   ]
  },
  {
   "cell_type": "code",
   "execution_count": 63,
   "metadata": {},
   "outputs": [],
   "source": [
    "def extract_lyrics_stlyrics(lyrics_url):\n",
    "    \"\"\" \n",
    "    Extract lyrics from lyric_url (based on hyperlink of lyrics within www.stlyrics.com)\n",
    "    \n",
    "    Args: \n",
    "        lyrics_url: url for lyric website\n",
    "        \n",
    "    Return:\n",
    "        text of lyrics\n",
    "    \"\"\"\n",
    "    \n",
    "    # parse hyperlink\n",
    "    parse_lyrics = parse_website(lyrics_url)\n",
    "\n",
    "    # Access lyric\n",
    "    lyrics_list = parse_lyrics.find_all('div', class_=\"highlight\")\n",
    "    \n",
    "    # extract the string within tags and remove any space at begin or end \n",
    "    lyrics_list=[item.text.strip() for item in lyrics_list ]\n",
    "    \n",
    "    # Remove none values if there is some\n",
    "    lyrics_list = list(filter(None, lyrics_list)) \n",
    "\n",
    "    return ' '.join(lyrics_list)"
   ]
  },
  {
   "cell_type": "markdown",
   "metadata": {},
   "source": [
    "And build a data frame with those lyrics in a way that we can merge with `df_songs`.\n",
    "\n",
    "To be able to merge this new data frame (`df_links`) with `df_songs` I need a common column. This column that I’ll call `links` consists of the titles of the songs in low letter and without spaces. I’ll create the same column in `df_songs` so we can merge it with `df_links` and create `df_lyrics` that will contain at the end all information about the theme songs of the James Bond franchise, including lyrics."
   ]
  },
  {
   "cell_type": "code",
   "execution_count": 64,
   "metadata": {},
   "outputs": [],
   "source": [
    "def create_dataframe_links_lyrics(list_urls):\n",
    "    \"\"\" \n",
    "    Create dataframe with links related to url and lyrics within this url address.\n",
    "    \n",
    "    Args:\n",
    "        list_urls (list): List of url address of the lyrics\n",
    "        \n",
    "    Return:\n",
    "        df_links (list): Dataframe with string related to url (link) and lyrics of the theme song within the url\n",
    "        address\n",
    "        \n",
    "    \n",
    "    \"\"\"\n",
    "    list_lyrics = []\n",
    "    list_links = []\n",
    "\n",
    "    for link in complete_urls:\n",
    "        list_lyrics.append(extract_lyrics_stlyrics(link))\n",
    "        list_links.append(link.split('/')[-1].replace('.htm',''))\n",
    "        \n",
    "    df_links = pd.DataFrame({'links':list_links, 'lyrics': list_lyrics})\n",
    "    \n",
    "    return df_links\n",
    "        "
   ]
  },
  {
   "cell_type": "code",
   "execution_count": 65,
   "metadata": {},
   "outputs": [
    {
     "data": {
      "text/html": [
       "<div>\n",
       "<style scoped>\n",
       "    .dataframe tbody tr th:only-of-type {\n",
       "        vertical-align: middle;\n",
       "    }\n",
       "\n",
       "    .dataframe tbody tr th {\n",
       "        vertical-align: top;\n",
       "    }\n",
       "\n",
       "    .dataframe thead th {\n",
       "        text-align: right;\n",
       "    }\n",
       "</style>\n",
       "<table border=\"1\" class=\"dataframe\">\n",
       "  <thead>\n",
       "    <tr style=\"text-align: right;\">\n",
       "      <th></th>\n",
       "      <th>links</th>\n",
       "      <th>lyrics</th>\n",
       "    </tr>\n",
       "  </thead>\n",
       "  <tbody>\n",
       "    <tr>\n",
       "      <th>0</th>\n",
       "      <td>foryoureyesonly</td>\n",
       "      <td>For your eyes only Can see me through the nigh...</td>\n",
       "    </tr>\n",
       "    <tr>\n",
       "      <th>1</th>\n",
       "      <td>nobodydoesitbetter</td>\n",
       "      <td>Nobody does it better Makes me feel sad for th...</td>\n",
       "    </tr>\n",
       "    <tr>\n",
       "      <th>2</th>\n",
       "      <td>anotherwaytodie</td>\n",
       "      <td>(Feat. Alicia Keys) I know the player With the...</td>\n",
       "    </tr>\n",
       "    <tr>\n",
       "      <th>3</th>\n",
       "      <td>thelivingdaylights</td>\n",
       "      <td>Hey driver, where're we going I swear my nerve...</td>\n",
       "    </tr>\n",
       "    <tr>\n",
       "      <th>4</th>\n",
       "      <td>jamesbondtheme</td>\n",
       "      <td></td>\n",
       "    </tr>\n",
       "  </tbody>\n",
       "</table>\n",
       "</div>"
      ],
      "text/plain": [
       "                links                                             lyrics\n",
       "0     foryoureyesonly  For your eyes only Can see me through the nigh...\n",
       "1  nobodydoesitbetter  Nobody does it better Makes me feel sad for th...\n",
       "2     anotherwaytodie  (Feat. Alicia Keys) I know the player With the...\n",
       "3  thelivingdaylights  Hey driver, where're we going I swear my nerve...\n",
       "4      jamesbondtheme                                                   "
      ]
     },
     "execution_count": 65,
     "metadata": {},
     "output_type": "execute_result"
    }
   ],
   "source": [
    "# create a list with complete address \n",
    "complete_urls = [\"https://www.stlyrics.com\"+link for link in list_links]\n",
    "\n",
    "# create dataframe df_links\n",
    "df_links = create_dataframe_links_lyrics(complete_urls)\n",
    "df_links.head()"
   ]
  },
  {
   "cell_type": "code",
   "execution_count": 66,
   "metadata": {},
   "outputs": [
    {
     "data": {
      "text/html": [
       "<div>\n",
       "<style scoped>\n",
       "    .dataframe tbody tr th:only-of-type {\n",
       "        vertical-align: middle;\n",
       "    }\n",
       "\n",
       "    .dataframe tbody tr th {\n",
       "        vertical-align: top;\n",
       "    }\n",
       "\n",
       "    .dataframe thead th {\n",
       "        text-align: right;\n",
       "    }\n",
       "</style>\n",
       "<table border=\"1\" class=\"dataframe\">\n",
       "  <thead>\n",
       "    <tr style=\"text-align: right;\">\n",
       "      <th></th>\n",
       "      <th>Theme Song</th>\n",
       "      <th>Performer</th>\n",
       "      <th>Film Title</th>\n",
       "      <th>Year</th>\n",
       "      <th>Composer</th>\n",
       "    </tr>\n",
       "  </thead>\n",
       "  <tbody>\n",
       "    <tr>\n",
       "      <th>0</th>\n",
       "      <td>James Bond Theme / Kingston Calypso</td>\n",
       "      <td>Orkest led by John Barry</td>\n",
       "      <td>Dr. No</td>\n",
       "      <td>1962</td>\n",
       "      <td>Monty Norman / Byron Lee and the Dragonaires</td>\n",
       "    </tr>\n",
       "    <tr>\n",
       "      <th>1</th>\n",
       "      <td>From Russia with Love</td>\n",
       "      <td>Matt Monro</td>\n",
       "      <td>From Russia with Love</td>\n",
       "      <td>1963</td>\n",
       "      <td>John Barry &amp; Lionel Bart</td>\n",
       "    </tr>\n",
       "    <tr>\n",
       "      <th>2</th>\n",
       "      <td>Goldfinger</td>\n",
       "      <td>Shirley Bassey</td>\n",
       "      <td>Goldfinger</td>\n",
       "      <td>1964</td>\n",
       "      <td>John Barry &amp; Anthony Newley &amp; Leslie Bricusse</td>\n",
       "    </tr>\n",
       "    <tr>\n",
       "      <th>3</th>\n",
       "      <td>Thunderball</td>\n",
       "      <td>Tom Jones</td>\n",
       "      <td>Thunderball</td>\n",
       "      <td>1965</td>\n",
       "      <td>John Barry &amp; Don Black</td>\n",
       "    </tr>\n",
       "    <tr>\n",
       "      <th>4</th>\n",
       "      <td>You Only Live Twice</td>\n",
       "      <td>Nancy Sinatra</td>\n",
       "      <td>You Only Live Twice</td>\n",
       "      <td>1967</td>\n",
       "      <td>John Barry &amp; Leslie Bricusse</td>\n",
       "    </tr>\n",
       "  </tbody>\n",
       "</table>\n",
       "</div>"
      ],
      "text/plain": [
       "                            Theme Song                 Performer  \\\n",
       "0  James Bond Theme / Kingston Calypso  Orkest led by John Barry   \n",
       "1                From Russia with Love                Matt Monro   \n",
       "2                           Goldfinger            Shirley Bassey   \n",
       "3                          Thunderball                 Tom Jones   \n",
       "4                  You Only Live Twice             Nancy Sinatra   \n",
       "\n",
       "              Film Title  Year                                       Composer  \n",
       "0                 Dr. No  1962   Monty Norman / Byron Lee and the Dragonaires  \n",
       "1  From Russia with Love  1963                       John Barry & Lionel Bart  \n",
       "2             Goldfinger  1964  John Barry & Anthony Newley & Leslie Bricusse  \n",
       "3            Thunderball  1965                         John Barry & Don Black  \n",
       "4    You Only Live Twice  1967                   John Barry & Leslie Bricusse  "
      ]
     },
     "execution_count": 66,
     "metadata": {},
     "output_type": "execute_result"
    }
   ],
   "source": [
    "df_songs.head()"
   ]
  },
  {
   "cell_type": "markdown",
   "metadata": {},
   "source": [
    "To be able to merge df_songs with df_films I’ve kept the two theme songs in the same row. Before merging `df_songs` and `df_links` we need to split the first row which contain information about 2 theme songs. For this I'll append to the data frame 2 new rows with information about each of the songs."
   ]
  },
  {
   "cell_type": "code",
   "execution_count": 67,
   "metadata": {},
   "outputs": [],
   "source": [
    "# copy df_songs to df_lyrics\n",
    "\n",
    "df_lyrics = df_songs.copy()"
   ]
  },
  {
   "cell_type": "code",
   "execution_count": 68,
   "metadata": {
    "code_folding": []
   },
   "outputs": [],
   "source": [
    "# Appending two new rows with updated information\n",
    "\n",
    "df_lyrics = df_lyrics.append({'Theme Song':\"James Bond Theme\", 'Performer':'Orkest led by John Barry', \n",
    "                            'Film Title':'Dr. No', 'Year':'1962', 'Composer': 'Monty Norman'}, ignore_index=True)\n",
    "df_lyrics = df_lyrics.append({'Theme Song': \"Kingston Calypso (a.k.a 'Three Blind Mice')\", 'Performer':\"Byron Lee and the Dragonaires\",\n",
    "                            'Film Title':'Dr. No', 'Year':'1962', 'Composer': 'Monty Norman'}, ignore_index=True)"
   ]
  },
  {
   "cell_type": "markdown",
   "metadata": {},
   "source": [
    "Then drop the old one and re-organize the dataframe."
   ]
  },
  {
   "cell_type": "code",
   "execution_count": 69,
   "metadata": {},
   "outputs": [],
   "source": [
    "# removing the incomplete info about Dr. No \n",
    "df_lyrics.drop_duplicates(subset=[\"Film Title\",\"Performer\"], keep='last', inplace=True)\n",
    "# re-organize dataframe by Year\n",
    "df_lyrics.sort_values('Year', inplace=True)\n",
    "# reset index\n",
    "df_lyrics.reset_index(drop=True, inplace=True)"
   ]
  },
  {
   "cell_type": "code",
   "execution_count": 70,
   "metadata": {},
   "outputs": [],
   "source": [
    "# Create links on df_lyrics\n",
    "df_lyrics['links'] = df_lyrics['Theme Song'].apply(lambda x: x.lower().replace(' ','').replace(\"'\",''))"
   ]
  },
  {
   "cell_type": "markdown",
   "metadata": {},
   "source": [
    "When merging we choose `outer` on how to merge so we can see clearer if there is some information missing."
   ]
  },
  {
   "cell_type": "code",
   "execution_count": 71,
   "metadata": {},
   "outputs": [],
   "source": [
    "\n",
    "df_lyrics = df_lyrics.merge(df_links, on='links', how='outer')"
   ]
  },
  {
   "cell_type": "code",
   "execution_count": 72,
   "metadata": {
    "scrolled": false
   },
   "outputs": [
    {
     "data": {
      "text/html": [
       "<div>\n",
       "<style scoped>\n",
       "    .dataframe tbody tr th:only-of-type {\n",
       "        vertical-align: middle;\n",
       "    }\n",
       "\n",
       "    .dataframe tbody tr th {\n",
       "        vertical-align: top;\n",
       "    }\n",
       "\n",
       "    .dataframe thead th {\n",
       "        text-align: right;\n",
       "    }\n",
       "</style>\n",
       "<table border=\"1\" class=\"dataframe\">\n",
       "  <thead>\n",
       "    <tr style=\"text-align: right;\">\n",
       "      <th></th>\n",
       "      <th>Theme Song</th>\n",
       "      <th>Performer</th>\n",
       "      <th>Film Title</th>\n",
       "      <th>Year</th>\n",
       "      <th>Composer</th>\n",
       "      <th>links</th>\n",
       "      <th>lyrics</th>\n",
       "    </tr>\n",
       "  </thead>\n",
       "  <tbody>\n",
       "    <tr>\n",
       "      <th>0</th>\n",
       "      <td>Kingston Calypso (a.k.a 'Three Blind Mice')</td>\n",
       "      <td>Byron Lee and the Dragonaires</td>\n",
       "      <td>Dr. No</td>\n",
       "      <td>1962</td>\n",
       "      <td>Monty Norman</td>\n",
       "      <td>kingstoncalypso(a.k.athreeblindmice)</td>\n",
       "      <td>NaN</td>\n",
       "    </tr>\n",
       "    <tr>\n",
       "      <th>1</th>\n",
       "      <td>James Bond Theme</td>\n",
       "      <td>Orkest led by John Barry</td>\n",
       "      <td>Dr. No</td>\n",
       "      <td>1962</td>\n",
       "      <td>Monty Norman</td>\n",
       "      <td>jamesbondtheme</td>\n",
       "      <td></td>\n",
       "    </tr>\n",
       "    <tr>\n",
       "      <th>2</th>\n",
       "      <td>From Russia with Love</td>\n",
       "      <td>Matt Monro</td>\n",
       "      <td>From Russia with Love</td>\n",
       "      <td>1963</td>\n",
       "      <td>John Barry &amp; Lionel Bart</td>\n",
       "      <td>fromrussiawithlove</td>\n",
       "      <td>From Russia with love I fly to you, much wiser...</td>\n",
       "    </tr>\n",
       "    <tr>\n",
       "      <th>3</th>\n",
       "      <td>Goldfinger</td>\n",
       "      <td>Shirley Bassey</td>\n",
       "      <td>Goldfinger</td>\n",
       "      <td>1964</td>\n",
       "      <td>John Barry &amp; Anthony Newley &amp; Leslie Bricusse</td>\n",
       "      <td>goldfinger</td>\n",
       "      <td>Goldfinger. He's the man, the man with the mid...</td>\n",
       "    </tr>\n",
       "    <tr>\n",
       "      <th>4</th>\n",
       "      <td>Thunderball</td>\n",
       "      <td>Tom Jones</td>\n",
       "      <td>Thunderball</td>\n",
       "      <td>1965</td>\n",
       "      <td>John Barry &amp; Don Black</td>\n",
       "      <td>thunderball</td>\n",
       "      <td>He always runs while others walk. He acts whil...</td>\n",
       "    </tr>\n",
       "    <tr>\n",
       "      <th>5</th>\n",
       "      <td>You Only Live Twice</td>\n",
       "      <td>Nancy Sinatra</td>\n",
       "      <td>You Only Live Twice</td>\n",
       "      <td>1967</td>\n",
       "      <td>John Barry &amp; Leslie Bricusse</td>\n",
       "      <td>youonlylivetwice</td>\n",
       "      <td>You only live twice, Or so it seems. One life ...</td>\n",
       "    </tr>\n",
       "    <tr>\n",
       "      <th>6</th>\n",
       "      <td>On Her Majesty's Secret Service</td>\n",
       "      <td>Orkest led by John Barry</td>\n",
       "      <td>On Her Majesty's Secret Service</td>\n",
       "      <td>1969</td>\n",
       "      <td>John Barry</td>\n",
       "      <td>onhermajestyssecretservice</td>\n",
       "      <td>I've got a secret I can't explain And all the ...</td>\n",
       "    </tr>\n",
       "    <tr>\n",
       "      <th>7</th>\n",
       "      <td>Diamonds Are Forever</td>\n",
       "      <td>Shirley Bassey</td>\n",
       "      <td>Diamonds Are Forever</td>\n",
       "      <td>1971</td>\n",
       "      <td>John Barry &amp; Don Black</td>\n",
       "      <td>diamondsareforever</td>\n",
       "      <td>Diamonds are forever, They are all I need to p...</td>\n",
       "    </tr>\n",
       "    <tr>\n",
       "      <th>8</th>\n",
       "      <td>Live and Let Die</td>\n",
       "      <td>Paul McCartney &amp; Wings</td>\n",
       "      <td>Live and Let Die</td>\n",
       "      <td>1973</td>\n",
       "      <td>Paul McCartney &amp; Linda McCartney</td>\n",
       "      <td>liveandletdie</td>\n",
       "      <td>When You Were Young And Your Heart Was An Open...</td>\n",
       "    </tr>\n",
       "    <tr>\n",
       "      <th>9</th>\n",
       "      <td>The Man with the Golden Gun</td>\n",
       "      <td>Lulu</td>\n",
       "      <td>The Man with the Golden Gun</td>\n",
       "      <td>1974</td>\n",
       "      <td>John Barry &amp; Don Black</td>\n",
       "      <td>themanwiththegoldengun</td>\n",
       "      <td>He has a powerful weapon He charges a million ...</td>\n",
       "    </tr>\n",
       "    <tr>\n",
       "      <th>10</th>\n",
       "      <td>Nobody Does It Better</td>\n",
       "      <td>Carly Simon</td>\n",
       "      <td>The Spy Who Loved Me</td>\n",
       "      <td>1977</td>\n",
       "      <td>Marvin Hamlisch &amp; Carole Bayer Sager</td>\n",
       "      <td>nobodydoesitbetter</td>\n",
       "      <td>Nobody does it better Makes me feel sad for th...</td>\n",
       "    </tr>\n",
       "    <tr>\n",
       "      <th>11</th>\n",
       "      <td>Moonraker</td>\n",
       "      <td>Shirley Bassey</td>\n",
       "      <td>Moonraker</td>\n",
       "      <td>1979</td>\n",
       "      <td>John Barry &amp; Hal David</td>\n",
       "      <td>moonraker</td>\n",
       "      <td>Where are you Why do you hide Where is that mo...</td>\n",
       "    </tr>\n",
       "    <tr>\n",
       "      <th>12</th>\n",
       "      <td>For Your Eyes Only</td>\n",
       "      <td>Sheena Easton</td>\n",
       "      <td>For Your Eyes Only</td>\n",
       "      <td>1981</td>\n",
       "      <td>Bill Conti &amp; Michael Leeson</td>\n",
       "      <td>foryoureyesonly</td>\n",
       "      <td>For your eyes only Can see me through the nigh...</td>\n",
       "    </tr>\n",
       "    <tr>\n",
       "      <th>13</th>\n",
       "      <td>All Time High</td>\n",
       "      <td>Rita Coolidge</td>\n",
       "      <td>Octopussy</td>\n",
       "      <td>1983</td>\n",
       "      <td>John Barry, Tim Rice &amp; Stephen Short</td>\n",
       "      <td>alltimehigh</td>\n",
       "      <td>All I wanted was a sweet distraction for an ho...</td>\n",
       "    </tr>\n",
       "    <tr>\n",
       "      <th>14</th>\n",
       "      <td>A View to a Kill</td>\n",
       "      <td>Duran Duran</td>\n",
       "      <td>A View to a Kill</td>\n",
       "      <td>1985</td>\n",
       "      <td>John Barry</td>\n",
       "      <td>aviewtoakill</td>\n",
       "      <td>Meeting you, with a view to a kill Face to fac...</td>\n",
       "    </tr>\n",
       "    <tr>\n",
       "      <th>15</th>\n",
       "      <td>The Living Daylights</td>\n",
       "      <td>a-ha</td>\n",
       "      <td>The Living Daylights</td>\n",
       "      <td>1987</td>\n",
       "      <td>John Barry &amp; Pål Waaktaar</td>\n",
       "      <td>thelivingdaylights</td>\n",
       "      <td>Hey driver, where're we going I swear my nerve...</td>\n",
       "    </tr>\n",
       "    <tr>\n",
       "      <th>16</th>\n",
       "      <td>Licence to Kill</td>\n",
       "      <td>Gladys Knight</td>\n",
       "      <td>Licence to Kill</td>\n",
       "      <td>1989</td>\n",
       "      <td>N. Michael Walden, Jeffrey Cohen &amp; Walter Afan...</td>\n",
       "      <td>licencetokill</td>\n",
       "      <td>Ooooh Ah-aaah I need, I need, I've got to hold...</td>\n",
       "    </tr>\n",
       "    <tr>\n",
       "      <th>17</th>\n",
       "      <td>GoldenEye</td>\n",
       "      <td>Tina Turner</td>\n",
       "      <td>GoldenEye</td>\n",
       "      <td>1995</td>\n",
       "      <td>Bono &amp; The Edge</td>\n",
       "      <td>goldeneye</td>\n",
       "      <td>See reflections on the water more than darknes...</td>\n",
       "    </tr>\n",
       "    <tr>\n",
       "      <th>18</th>\n",
       "      <td>Tomorrow Never Dies</td>\n",
       "      <td>Sheryl Crow</td>\n",
       "      <td>Tomorrow Never Dies</td>\n",
       "      <td>1997</td>\n",
       "      <td>Sheryl Crow &amp; Mitchell Froom</td>\n",
       "      <td>tomorrowneverdies</td>\n",
       "      <td>Darling I'm kill I'm in puddle on the floor Wa...</td>\n",
       "    </tr>\n",
       "    <tr>\n",
       "      <th>19</th>\n",
       "      <td>The World Is Not Enough</td>\n",
       "      <td>Garbage</td>\n",
       "      <td>The World Is Not Enough</td>\n",
       "      <td>1999</td>\n",
       "      <td>David Arnold &amp; Don Black</td>\n",
       "      <td>theworldisnotenough</td>\n",
       "      <td>I know how to hurt I know how to heal I know w...</td>\n",
       "    </tr>\n",
       "    <tr>\n",
       "      <th>20</th>\n",
       "      <td>Die Another Day</td>\n",
       "      <td>Madonna</td>\n",
       "      <td>Die Another Day</td>\n",
       "      <td>2002</td>\n",
       "      <td>Madonna &amp; Mirwais Ahmadzaï</td>\n",
       "      <td>dieanotherday</td>\n",
       "      <td>I'm gonna wake up, yes and no I'm gonna kiss s...</td>\n",
       "    </tr>\n",
       "    <tr>\n",
       "      <th>21</th>\n",
       "      <td>You Know My Name</td>\n",
       "      <td>Chris Cornell</td>\n",
       "      <td>Casino Royale</td>\n",
       "      <td>2006</td>\n",
       "      <td>David Arnold &amp; Chris Cornell</td>\n",
       "      <td>youknowmyname</td>\n",
       "      <td>If you take a life, do you know what you'll gi...</td>\n",
       "    </tr>\n",
       "    <tr>\n",
       "      <th>22</th>\n",
       "      <td>Another Way to Die</td>\n",
       "      <td>Alicia Keys &amp; Jack White</td>\n",
       "      <td>Quantum of Solace</td>\n",
       "      <td>2008</td>\n",
       "      <td>Jack White</td>\n",
       "      <td>anotherwaytodie</td>\n",
       "      <td>(Feat. Alicia Keys) I know the player With the...</td>\n",
       "    </tr>\n",
       "    <tr>\n",
       "      <th>23</th>\n",
       "      <td>Skyfall</td>\n",
       "      <td>Adele</td>\n",
       "      <td>Skyfall</td>\n",
       "      <td>2012</td>\n",
       "      <td>Adele &amp; Paul Epworth</td>\n",
       "      <td>skyfall</td>\n",
       "      <td>NaN</td>\n",
       "    </tr>\n",
       "    <tr>\n",
       "      <th>24</th>\n",
       "      <td>Writing's On The Wall</td>\n",
       "      <td>Sam Smith</td>\n",
       "      <td>Spectre</td>\n",
       "      <td>2015</td>\n",
       "      <td>Sam Smith &amp; Jimmy Napes</td>\n",
       "      <td>writingsonthewall</td>\n",
       "      <td>NaN</td>\n",
       "    </tr>\n",
       "    <tr>\n",
       "      <th>25</th>\n",
       "      <td>No Time to Die</td>\n",
       "      <td>Billie Eilish</td>\n",
       "      <td>No Time to Die</td>\n",
       "      <td>2021</td>\n",
       "      <td>Billie Eilish &amp; Finneas O'Connell</td>\n",
       "      <td>notimetodie</td>\n",
       "      <td>NaN</td>\n",
       "    </tr>\n",
       "    <tr>\n",
       "      <th>26</th>\n",
       "      <td>NaN</td>\n",
       "      <td>NaN</td>\n",
       "      <td>NaN</td>\n",
       "      <td>NaN</td>\n",
       "      <td>NaN</td>\n",
       "      <td>wehaveallthetimeintheworld</td>\n",
       "      <td>We have all the time in the world Time enough ...</td>\n",
       "    </tr>\n",
       "  </tbody>\n",
       "</table>\n",
       "</div>"
      ],
      "text/plain": [
       "                                     Theme Song  \\\n",
       "0   Kingston Calypso (a.k.a 'Three Blind Mice')   \n",
       "1                              James Bond Theme   \n",
       "2                         From Russia with Love   \n",
       "3                                    Goldfinger   \n",
       "4                                   Thunderball   \n",
       "5                           You Only Live Twice   \n",
       "6               On Her Majesty's Secret Service   \n",
       "7                          Diamonds Are Forever   \n",
       "8                              Live and Let Die   \n",
       "9                   The Man with the Golden Gun   \n",
       "10                        Nobody Does It Better   \n",
       "11                                    Moonraker   \n",
       "12                           For Your Eyes Only   \n",
       "13                                All Time High   \n",
       "14                             A View to a Kill   \n",
       "15                         The Living Daylights   \n",
       "16                              Licence to Kill   \n",
       "17                                    GoldenEye   \n",
       "18                          Tomorrow Never Dies   \n",
       "19                      The World Is Not Enough   \n",
       "20                              Die Another Day   \n",
       "21                             You Know My Name   \n",
       "22                           Another Way to Die   \n",
       "23                                      Skyfall   \n",
       "24                        Writing's On The Wall   \n",
       "25                               No Time to Die   \n",
       "26                                          NaN   \n",
       "\n",
       "                        Performer                       Film Title  Year  \\\n",
       "0   Byron Lee and the Dragonaires                           Dr. No  1962   \n",
       "1        Orkest led by John Barry                           Dr. No  1962   \n",
       "2                      Matt Monro            From Russia with Love  1963   \n",
       "3                  Shirley Bassey                       Goldfinger  1964   \n",
       "4                       Tom Jones                      Thunderball  1965   \n",
       "5                   Nancy Sinatra              You Only Live Twice  1967   \n",
       "6        Orkest led by John Barry  On Her Majesty's Secret Service  1969   \n",
       "7                  Shirley Bassey             Diamonds Are Forever  1971   \n",
       "8          Paul McCartney & Wings                 Live and Let Die  1973   \n",
       "9                            Lulu      The Man with the Golden Gun  1974   \n",
       "10                    Carly Simon             The Spy Who Loved Me  1977   \n",
       "11                 Shirley Bassey                        Moonraker  1979   \n",
       "12                  Sheena Easton               For Your Eyes Only  1981   \n",
       "13                  Rita Coolidge                        Octopussy  1983   \n",
       "14                    Duran Duran                 A View to a Kill  1985   \n",
       "15                           a-ha             The Living Daylights  1987   \n",
       "16                  Gladys Knight                  Licence to Kill  1989   \n",
       "17                    Tina Turner                        GoldenEye  1995   \n",
       "18                    Sheryl Crow              Tomorrow Never Dies  1997   \n",
       "19                        Garbage          The World Is Not Enough  1999   \n",
       "20                        Madonna                  Die Another Day  2002   \n",
       "21                  Chris Cornell                    Casino Royale  2006   \n",
       "22       Alicia Keys & Jack White                Quantum of Solace  2008   \n",
       "23                          Adele                          Skyfall  2012   \n",
       "24                      Sam Smith                          Spectre  2015   \n",
       "25                  Billie Eilish                   No Time to Die  2021   \n",
       "26                            NaN                              NaN   NaN   \n",
       "\n",
       "                                             Composer  \\\n",
       "0                                        Monty Norman   \n",
       "1                                        Monty Norman   \n",
       "2                            John Barry & Lionel Bart   \n",
       "3       John Barry & Anthony Newley & Leslie Bricusse   \n",
       "4                              John Barry & Don Black   \n",
       "5                        John Barry & Leslie Bricusse   \n",
       "6                                          John Barry   \n",
       "7                              John Barry & Don Black   \n",
       "8                    Paul McCartney & Linda McCartney   \n",
       "9                              John Barry & Don Black   \n",
       "10               Marvin Hamlisch & Carole Bayer Sager   \n",
       "11                             John Barry & Hal David   \n",
       "12                        Bill Conti & Michael Leeson   \n",
       "13               John Barry, Tim Rice & Stephen Short   \n",
       "14                                         John Barry   \n",
       "15                          John Barry & Pål Waaktaar   \n",
       "16  N. Michael Walden, Jeffrey Cohen & Walter Afan...   \n",
       "17                                    Bono & The Edge   \n",
       "18                       Sheryl Crow & Mitchell Froom   \n",
       "19                           David Arnold & Don Black   \n",
       "20                         Madonna & Mirwais Ahmadzaï   \n",
       "21                       David Arnold & Chris Cornell   \n",
       "22                                         Jack White   \n",
       "23                               Adele & Paul Epworth   \n",
       "24                            Sam Smith & Jimmy Napes   \n",
       "25                  Billie Eilish & Finneas O'Connell   \n",
       "26                                                NaN   \n",
       "\n",
       "                                   links  \\\n",
       "0   kingstoncalypso(a.k.athreeblindmice)   \n",
       "1                         jamesbondtheme   \n",
       "2                     fromrussiawithlove   \n",
       "3                             goldfinger   \n",
       "4                            thunderball   \n",
       "5                       youonlylivetwice   \n",
       "6             onhermajestyssecretservice   \n",
       "7                     diamondsareforever   \n",
       "8                          liveandletdie   \n",
       "9                 themanwiththegoldengun   \n",
       "10                    nobodydoesitbetter   \n",
       "11                             moonraker   \n",
       "12                       foryoureyesonly   \n",
       "13                           alltimehigh   \n",
       "14                          aviewtoakill   \n",
       "15                    thelivingdaylights   \n",
       "16                         licencetokill   \n",
       "17                             goldeneye   \n",
       "18                     tomorrowneverdies   \n",
       "19                   theworldisnotenough   \n",
       "20                         dieanotherday   \n",
       "21                         youknowmyname   \n",
       "22                       anotherwaytodie   \n",
       "23                               skyfall   \n",
       "24                     writingsonthewall   \n",
       "25                           notimetodie   \n",
       "26            wehaveallthetimeintheworld   \n",
       "\n",
       "                                               lyrics  \n",
       "0                                                 NaN  \n",
       "1                                                      \n",
       "2   From Russia with love I fly to you, much wiser...  \n",
       "3   Goldfinger. He's the man, the man with the mid...  \n",
       "4   He always runs while others walk. He acts whil...  \n",
       "5   You only live twice, Or so it seems. One life ...  \n",
       "6   I've got a secret I can't explain And all the ...  \n",
       "7   Diamonds are forever, They are all I need to p...  \n",
       "8   When You Were Young And Your Heart Was An Open...  \n",
       "9   He has a powerful weapon He charges a million ...  \n",
       "10  Nobody does it better Makes me feel sad for th...  \n",
       "11  Where are you Why do you hide Where is that mo...  \n",
       "12  For your eyes only Can see me through the nigh...  \n",
       "13  All I wanted was a sweet distraction for an ho...  \n",
       "14  Meeting you, with a view to a kill Face to fac...  \n",
       "15  Hey driver, where're we going I swear my nerve...  \n",
       "16  Ooooh Ah-aaah I need, I need, I've got to hold...  \n",
       "17  See reflections on the water more than darknes...  \n",
       "18  Darling I'm kill I'm in puddle on the floor Wa...  \n",
       "19  I know how to hurt I know how to heal I know w...  \n",
       "20  I'm gonna wake up, yes and no I'm gonna kiss s...  \n",
       "21  If you take a life, do you know what you'll gi...  \n",
       "22  (Feat. Alicia Keys) I know the player With the...  \n",
       "23                                                NaN  \n",
       "24                                                NaN  \n",
       "25                                                NaN  \n",
       "26  We have all the time in the world Time enough ...  "
      ]
     },
     "execution_count": 72,
     "metadata": {},
     "output_type": "execute_result"
    }
   ],
   "source": [
    "df_lyrics"
   ]
  },
  {
   "cell_type": "markdown",
   "metadata": {},
   "source": [
    "We can observe that in column `lyrics` we have four `NaN` and one empty cell. The empty cell for the `James Bond Theme` is expected since this is an instrumental song.\n",
    "\n",
    "The other four are lyrics that are missing. This is because the website we used is based in a collection of themes that goes until 2008.\n",
    "\n",
    "We also notice that the last row has `NaN` for `Theme Song`, `Performer`, `Film Title`, `Year`, and `Composer`. But we know the title of the song by the link: `We have all the time in the world`.\n",
    "\n",
    "A little googled shows that this [James Bond Theme](https://en.wikipedia.org/wiki/We_Have_All_the_Time_in_the_World) performed by Louis Amstrong was the second theme of `On Her Majesty's Secret Service (1969)` and was composed by Hal David and John Barry. In addition, it says that the other theme `On Her Majesty's Secret Service` is instrumental. Therefore, it is a mistake on the website. In fact, when checking the lyrics there are from 1985! A band called `Orchestral manoeuvres in the dark` and the song is called `Secret`.\n",
    "\n",
    "Therefore, to make things right we :\n",
    "\n",
    "1. Remove lyrics from song theme `On Her Majesty's Secret Service`\n",
    "2. Add the missing information of the second (non-instrumental) theme of `On Her Majesty's Secret Service`\n",
    "2. Add lyrics to:\n",
    "    * Kingston Calypso a.k.a Three Blind Mice (1962)\n",
    "    * Skyfall (2012)\n",
    "    * Writing's On The Wall (2015)\n",
    "    * No Time to Die (2021)"
   ]
  },
  {
   "cell_type": "code",
   "execution_count": 73,
   "metadata": {},
   "outputs": [],
   "source": [
    "# remove lyrics of \"On Her Majesty's Secret Service\"\n",
    "\n",
    "df_lyrics['lyrics'][df_lyrics['Theme Song']==\"On Her Majesty's Secret Service\"]=''"
   ]
  },
  {
   "cell_type": "code",
   "execution_count": 74,
   "metadata": {},
   "outputs": [],
   "source": [
    "# Add info about theme song 'We have all the time in the world'\n",
    "\n",
    "df_lyrics = df_lyrics.append({'Theme Song': \"We Have All The Time in the World\", \n",
    "                              'Performer':\"Louis Amstrong\",\n",
    "                              'Film Title':\"On Her Majesty's Secret Service\", 'Year':'1969', \n",
    "                              'Composer': 'John Barry & Hal David', \n",
    "                              'links':'wehaveallthetimeintheworld',\n",
    "                              'lyrics':df_lyrics['lyrics'][df_lyrics['links']=='wehaveallthetimeintheworld'].values[0]}, \n",
    "                             ignore_index=True)\n",
    "\n",
    "df_lyrics.drop_duplicates('links', keep='last', inplace = True)"
   ]
  },
  {
   "cell_type": "markdown",
   "metadata": {},
   "source": [
    "Three out the 4 lyrics can be found on the same website (https://www.songteksten.nl/). Let's start by `Kingston Calypso a.k.a Three Blind Mice` that is found in a different website (https://www.flashlyrics.com/lyrics/monty-norman/kingston-calypso-75).\n",
    "\n",
    "After inspecting the html source code of `Kingston Calypso` we come with the following code:"
   ]
  },
  {
   "cell_type": "code",
   "execution_count": 75,
   "metadata": {},
   "outputs": [
    {
     "name": "stdout",
     "output_type": "stream",
     "text": [
      "Three blind mice in a row\n",
      "Three blind mice there they go\n",
      "Marching down the street single file\n",
      "To a calypso beat all the while\n",
      "They're looking for the cat\n",
      "The cat that swallowed the rat\n",
      "They want to show the cat the attitude\n",
      "of three blind mice\n",
      "Three blind mice here and there\n",
      "Three blind mice everywhere\n",
      "Searching all around for the cat\n",
      "All over Kingston town pitter pat\n",
      "They got the carving knife\n",
      "To cut the p****cat's life\n",
      "The puss will get the knife for triflin\n",
      "with three blind mice\n",
      "So beware\n",
      "Three blind mice\n",
      "Watch your step\n",
      "Three blind mice\n",
      "Deadly mice\n",
      "Three blind mice\n",
      "Where they go?\n",
      "Three blind mice\n",
      "What they do?\n",
      "Three blind mice\n",
      "Oh, the mice\n",
      "Three blind mice\n",
      "Deadly mice\n"
     ]
    }
   ],
   "source": [
    "calypso_url = \"https://www.flashlyrics.com/lyrics/monty-norman/kingston-calypso-75\"\n",
    "\n",
    "parse_calypso = parse_website(calypso_url)\n",
    "\n",
    "lyrics_list = parse_calypso.find_all('div', class_=\"main-panel-content\")[0].find_all('span')\n",
    "\n",
    "lyrics_list=[item.text.strip() for item in lyrics_list]\n",
    "\n",
    "# Remove none values if there is some\n",
    "lyrics_list = list(filter(None, lyrics_list)) \n",
    "\n",
    "print('\\n'.join(lyrics_list))"
   ]
  },
  {
   "cell_type": "code",
   "execution_count": 76,
   "metadata": {},
   "outputs": [],
   "source": [
    "# Adding lyrics to dataframe\n",
    "df_lyrics['lyrics'].iloc[0] = ' '.join(lyrics_list)"
   ]
  },
  {
   "cell_type": "markdown",
   "metadata": {},
   "source": [
    "Now is time for the last 3 missing lyrics, all retrieved from `songteksten.net`."
   ]
  },
  {
   "cell_type": "code",
   "execution_count": 77,
   "metadata": {},
   "outputs": [],
   "source": [
    "list_lyrics_songteksten_net = ['https://songteksten.net/lyric/5056/94896/adele/skyfall.html',\n",
    "       'https://songteksten.net/lyric/8376/98306/sam-smith/writings-on-the-wall.html',\n",
    "       'https://songteksten.net/lyric/8957/102778/billie-eilish/no-time-to-die.html']"
   ]
  },
  {
   "cell_type": "markdown",
   "metadata": {},
   "source": [
    "When inspecting any of the 3 hyperlinks above you will notice that text of the lyrics is between `line breaks`, i.e., <\\br> tags. This [link](https://stackoverflow.com/questions/5275359/using-beautifulsoup-to-extract-text-between-line-breaks-e-g-br-tags) points a nice solution using a `childGenerator` from BeautifulSoup.\n",
    "\n",
    "We combined this solution with some filtering in a list comprehension and voilá!"
   ]
  },
  {
   "cell_type": "code",
   "execution_count": 78,
   "metadata": {},
   "outputs": [],
   "source": [
    "def extract_lyrics_songteksten_net(songteksten_url):\n",
    "    \"\"\" \n",
    "    Extract lyrics from hyperlink of lyrics within /www.songteksten.net)\n",
    "    \n",
    "    Args: \n",
    "        lyrics_url: url for lyric website\n",
    "        \n",
    "    Return:\n",
    "        text of lyrics\n",
    "    \n",
    "    \n",
    "    \"\"\"\n",
    "    # making html easier to read\n",
    "    parse_songteksten = parse_website(songteksten_url)\n",
    "    \n",
    "    list_tags = parse_songteksten.find_all('div', class_=\"col-sm-7 content-left\")\n",
    "    \n",
    "    lyrics_list = [str(a) for a in list_tags[0].childGenerator() if ('<h1' not in str(a)) and ('<div' not in str(a)) and \n",
    "              ('<br/>' not in str(a))]\n",
    "\n",
    "    # Remove none values if there is some\n",
    "    lyrics_list = list(filter(None, lyrics_list)) \n",
    "    \n",
    "    lyrics_list = [text.strip().replace('\\n','') for text in lyrics_list]\n",
    "\n",
    "    return ' '.join(lyrics_list)    "
   ]
  },
  {
   "cell_type": "code",
   "execution_count": 79,
   "metadata": {},
   "outputs": [
    {
     "data": {
      "text/plain": [
       "\" This is the end Hold your breath and count to ten Feel the earth move and then Hear my heart burst again  For this is the end I've drowned and dreamt this moment So overdue I owe them Swept away, I'm stolen  Let the skyfall When it crumbles We will stand tall Face it all together  Let the skyfall When it crumbles We will stand tall Face it all together At skyfall  Skyfall is where we start A thousand miles and poles apart Where worlds collide and days are dark You may have my number, you can take my name But you'll never have my heart  Let the skyfall When it crumbles We will stand tall Face it all together  Let the skyfall When it crumbles We will stand tall Face it all together At skyfall  Where you, go I go What you see, I see I know I'd never be me Without the security  Of your loving arms Keeping me from harm Put your hand in my hand And we'll stand  Let the skyfall When it crumbles We will stand tall And ace it all together At skyfall  Let the skyfall We will stand tall At skyfall\""
      ]
     },
     "execution_count": 79,
     "metadata": {},
     "output_type": "execute_result"
    }
   ],
   "source": [
    "songteksten_url = list_lyrics_songteksten_net[0]\n",
    "extract_lyrics_songteksten_net(songteksten_url)"
   ]
  },
  {
   "cell_type": "code",
   "execution_count": 80,
   "metadata": {},
   "outputs": [
    {
     "name": "stdout",
     "output_type": "stream",
     "text": [
      "https://songteksten.net/lyric/5056/94896/adele/skyfall.html\n",
      "23\n",
      "https://songteksten.net/lyric/8376/98306/sam-smith/writings-on-the-wall.html\n",
      "24\n",
      "https://songteksten.net/lyric/8957/102778/billie-eilish/no-time-to-die.html\n",
      "25\n"
     ]
    }
   ],
   "source": [
    "idx = 23 # idx of Skyfall in df_lyrics\n",
    "\n",
    "while idx <= 25:\n",
    "    for link in list_lyrics_songteksten_net:\n",
    "        print(link)\n",
    "        df_lyrics['lyrics'][idx] = extract_lyrics_songteksten_net(link)\n",
    "        print(idx)\n",
    "        idx += 1"
   ]
  },
  {
   "cell_type": "code",
   "execution_count": 81,
   "metadata": {
    "scrolled": false
   },
   "outputs": [
    {
     "data": {
      "text/html": [
       "<div>\n",
       "<style scoped>\n",
       "    .dataframe tbody tr th:only-of-type {\n",
       "        vertical-align: middle;\n",
       "    }\n",
       "\n",
       "    .dataframe tbody tr th {\n",
       "        vertical-align: top;\n",
       "    }\n",
       "\n",
       "    .dataframe thead th {\n",
       "        text-align: right;\n",
       "    }\n",
       "</style>\n",
       "<table border=\"1\" class=\"dataframe\">\n",
       "  <thead>\n",
       "    <tr style=\"text-align: right;\">\n",
       "      <th></th>\n",
       "      <th>Theme Song</th>\n",
       "      <th>Performer</th>\n",
       "      <th>Film Title</th>\n",
       "      <th>Year</th>\n",
       "      <th>Composer</th>\n",
       "      <th>links</th>\n",
       "      <th>lyrics</th>\n",
       "    </tr>\n",
       "  </thead>\n",
       "  <tbody>\n",
       "    <tr>\n",
       "      <th>0</th>\n",
       "      <td>Kingston Calypso (a.k.a 'Three Blind Mice')</td>\n",
       "      <td>Byron Lee and the Dragonaires</td>\n",
       "      <td>Dr. No</td>\n",
       "      <td>1962</td>\n",
       "      <td>Monty Norman</td>\n",
       "      <td>kingstoncalypso(a.k.athreeblindmice)</td>\n",
       "      <td>Three blind mice in a row Three blind mice the...</td>\n",
       "    </tr>\n",
       "    <tr>\n",
       "      <th>1</th>\n",
       "      <td>James Bond Theme</td>\n",
       "      <td>Orkest led by John Barry</td>\n",
       "      <td>Dr. No</td>\n",
       "      <td>1962</td>\n",
       "      <td>Monty Norman</td>\n",
       "      <td>jamesbondtheme</td>\n",
       "      <td></td>\n",
       "    </tr>\n",
       "    <tr>\n",
       "      <th>2</th>\n",
       "      <td>From Russia with Love</td>\n",
       "      <td>Matt Monro</td>\n",
       "      <td>From Russia with Love</td>\n",
       "      <td>1963</td>\n",
       "      <td>John Barry &amp; Lionel Bart</td>\n",
       "      <td>fromrussiawithlove</td>\n",
       "      <td>From Russia with love I fly to you, much wiser...</td>\n",
       "    </tr>\n",
       "    <tr>\n",
       "      <th>3</th>\n",
       "      <td>Goldfinger</td>\n",
       "      <td>Shirley Bassey</td>\n",
       "      <td>Goldfinger</td>\n",
       "      <td>1964</td>\n",
       "      <td>John Barry &amp; Anthony Newley &amp; Leslie Bricusse</td>\n",
       "      <td>goldfinger</td>\n",
       "      <td>Goldfinger. He's the man, the man with the mid...</td>\n",
       "    </tr>\n",
       "    <tr>\n",
       "      <th>4</th>\n",
       "      <td>Thunderball</td>\n",
       "      <td>Tom Jones</td>\n",
       "      <td>Thunderball</td>\n",
       "      <td>1965</td>\n",
       "      <td>John Barry &amp; Don Black</td>\n",
       "      <td>thunderball</td>\n",
       "      <td>He always runs while others walk. He acts whil...</td>\n",
       "    </tr>\n",
       "    <tr>\n",
       "      <th>5</th>\n",
       "      <td>You Only Live Twice</td>\n",
       "      <td>Nancy Sinatra</td>\n",
       "      <td>You Only Live Twice</td>\n",
       "      <td>1967</td>\n",
       "      <td>John Barry &amp; Leslie Bricusse</td>\n",
       "      <td>youonlylivetwice</td>\n",
       "      <td>You only live twice, Or so it seems. One life ...</td>\n",
       "    </tr>\n",
       "    <tr>\n",
       "      <th>6</th>\n",
       "      <td>We Have All The Time in the World</td>\n",
       "      <td>Louis Amstrong</td>\n",
       "      <td>On Her Majesty's Secret Service</td>\n",
       "      <td>1969</td>\n",
       "      <td>John Barry &amp; Hal David</td>\n",
       "      <td>wehaveallthetimeintheworld</td>\n",
       "      <td>We have all the time in the world Time enough ...</td>\n",
       "    </tr>\n",
       "    <tr>\n",
       "      <th>7</th>\n",
       "      <td>On Her Majesty's Secret Service</td>\n",
       "      <td>Orkest led by John Barry</td>\n",
       "      <td>On Her Majesty's Secret Service</td>\n",
       "      <td>1969</td>\n",
       "      <td>John Barry</td>\n",
       "      <td>onhermajestyssecretservice</td>\n",
       "      <td></td>\n",
       "    </tr>\n",
       "    <tr>\n",
       "      <th>8</th>\n",
       "      <td>Diamonds Are Forever</td>\n",
       "      <td>Shirley Bassey</td>\n",
       "      <td>Diamonds Are Forever</td>\n",
       "      <td>1971</td>\n",
       "      <td>John Barry &amp; Don Black</td>\n",
       "      <td>diamondsareforever</td>\n",
       "      <td>Diamonds are forever, They are all I need to p...</td>\n",
       "    </tr>\n",
       "    <tr>\n",
       "      <th>9</th>\n",
       "      <td>Live and Let Die</td>\n",
       "      <td>Paul McCartney &amp; Wings</td>\n",
       "      <td>Live and Let Die</td>\n",
       "      <td>1973</td>\n",
       "      <td>Paul McCartney &amp; Linda McCartney</td>\n",
       "      <td>liveandletdie</td>\n",
       "      <td>When You Were Young And Your Heart Was An Open...</td>\n",
       "    </tr>\n",
       "    <tr>\n",
       "      <th>10</th>\n",
       "      <td>The Man with the Golden Gun</td>\n",
       "      <td>Lulu</td>\n",
       "      <td>The Man with the Golden Gun</td>\n",
       "      <td>1974</td>\n",
       "      <td>John Barry &amp; Don Black</td>\n",
       "      <td>themanwiththegoldengun</td>\n",
       "      <td>He has a powerful weapon He charges a million ...</td>\n",
       "    </tr>\n",
       "    <tr>\n",
       "      <th>11</th>\n",
       "      <td>Nobody Does It Better</td>\n",
       "      <td>Carly Simon</td>\n",
       "      <td>The Spy Who Loved Me</td>\n",
       "      <td>1977</td>\n",
       "      <td>Marvin Hamlisch &amp; Carole Bayer Sager</td>\n",
       "      <td>nobodydoesitbetter</td>\n",
       "      <td>Nobody does it better Makes me feel sad for th...</td>\n",
       "    </tr>\n",
       "    <tr>\n",
       "      <th>12</th>\n",
       "      <td>Moonraker</td>\n",
       "      <td>Shirley Bassey</td>\n",
       "      <td>Moonraker</td>\n",
       "      <td>1979</td>\n",
       "      <td>John Barry &amp; Hal David</td>\n",
       "      <td>moonraker</td>\n",
       "      <td>Where are you Why do you hide Where is that mo...</td>\n",
       "    </tr>\n",
       "    <tr>\n",
       "      <th>13</th>\n",
       "      <td>For Your Eyes Only</td>\n",
       "      <td>Sheena Easton</td>\n",
       "      <td>For Your Eyes Only</td>\n",
       "      <td>1981</td>\n",
       "      <td>Bill Conti &amp; Michael Leeson</td>\n",
       "      <td>foryoureyesonly</td>\n",
       "      <td>For your eyes only Can see me through the nigh...</td>\n",
       "    </tr>\n",
       "    <tr>\n",
       "      <th>14</th>\n",
       "      <td>All Time High</td>\n",
       "      <td>Rita Coolidge</td>\n",
       "      <td>Octopussy</td>\n",
       "      <td>1983</td>\n",
       "      <td>John Barry, Tim Rice &amp; Stephen Short</td>\n",
       "      <td>alltimehigh</td>\n",
       "      <td>All I wanted was a sweet distraction for an ho...</td>\n",
       "    </tr>\n",
       "    <tr>\n",
       "      <th>15</th>\n",
       "      <td>A View to a Kill</td>\n",
       "      <td>Duran Duran</td>\n",
       "      <td>A View to a Kill</td>\n",
       "      <td>1985</td>\n",
       "      <td>John Barry</td>\n",
       "      <td>aviewtoakill</td>\n",
       "      <td>Meeting you, with a view to a kill Face to fac...</td>\n",
       "    </tr>\n",
       "    <tr>\n",
       "      <th>16</th>\n",
       "      <td>The Living Daylights</td>\n",
       "      <td>a-ha</td>\n",
       "      <td>The Living Daylights</td>\n",
       "      <td>1987</td>\n",
       "      <td>John Barry &amp; Pål Waaktaar</td>\n",
       "      <td>thelivingdaylights</td>\n",
       "      <td>Hey driver, where're we going I swear my nerve...</td>\n",
       "    </tr>\n",
       "    <tr>\n",
       "      <th>17</th>\n",
       "      <td>Licence to Kill</td>\n",
       "      <td>Gladys Knight</td>\n",
       "      <td>Licence to Kill</td>\n",
       "      <td>1989</td>\n",
       "      <td>N. Michael Walden, Jeffrey Cohen &amp; Walter Afan...</td>\n",
       "      <td>licencetokill</td>\n",
       "      <td>Ooooh Ah-aaah I need, I need, I've got to hold...</td>\n",
       "    </tr>\n",
       "    <tr>\n",
       "      <th>18</th>\n",
       "      <td>GoldenEye</td>\n",
       "      <td>Tina Turner</td>\n",
       "      <td>GoldenEye</td>\n",
       "      <td>1995</td>\n",
       "      <td>Bono &amp; The Edge</td>\n",
       "      <td>goldeneye</td>\n",
       "      <td>See reflections on the water more than darknes...</td>\n",
       "    </tr>\n",
       "    <tr>\n",
       "      <th>19</th>\n",
       "      <td>Tomorrow Never Dies</td>\n",
       "      <td>Sheryl Crow</td>\n",
       "      <td>Tomorrow Never Dies</td>\n",
       "      <td>1997</td>\n",
       "      <td>Sheryl Crow &amp; Mitchell Froom</td>\n",
       "      <td>tomorrowneverdies</td>\n",
       "      <td>Darling I'm kill I'm in puddle on the floor Wa...</td>\n",
       "    </tr>\n",
       "    <tr>\n",
       "      <th>20</th>\n",
       "      <td>The World Is Not Enough</td>\n",
       "      <td>Garbage</td>\n",
       "      <td>The World Is Not Enough</td>\n",
       "      <td>1999</td>\n",
       "      <td>David Arnold &amp; Don Black</td>\n",
       "      <td>theworldisnotenough</td>\n",
       "      <td>I know how to hurt I know how to heal I know w...</td>\n",
       "    </tr>\n",
       "    <tr>\n",
       "      <th>21</th>\n",
       "      <td>Die Another Day</td>\n",
       "      <td>Madonna</td>\n",
       "      <td>Die Another Day</td>\n",
       "      <td>2002</td>\n",
       "      <td>Madonna &amp; Mirwais Ahmadzaï</td>\n",
       "      <td>dieanotherday</td>\n",
       "      <td>I'm gonna wake up, yes and no I'm gonna kiss s...</td>\n",
       "    </tr>\n",
       "    <tr>\n",
       "      <th>22</th>\n",
       "      <td>You Know My Name</td>\n",
       "      <td>Chris Cornell</td>\n",
       "      <td>Casino Royale</td>\n",
       "      <td>2006</td>\n",
       "      <td>David Arnold &amp; Chris Cornell</td>\n",
       "      <td>youknowmyname</td>\n",
       "      <td>If you take a life, do you know what you'll gi...</td>\n",
       "    </tr>\n",
       "    <tr>\n",
       "      <th>23</th>\n",
       "      <td>Another Way to Die</td>\n",
       "      <td>Alicia Keys &amp; Jack White</td>\n",
       "      <td>Quantum of Solace</td>\n",
       "      <td>2008</td>\n",
       "      <td>Jack White</td>\n",
       "      <td>anotherwaytodie</td>\n",
       "      <td>(Feat. Alicia Keys) I know the player With the...</td>\n",
       "    </tr>\n",
       "    <tr>\n",
       "      <th>24</th>\n",
       "      <td>Skyfall</td>\n",
       "      <td>Adele</td>\n",
       "      <td>Skyfall</td>\n",
       "      <td>2012</td>\n",
       "      <td>Adele &amp; Paul Epworth</td>\n",
       "      <td>skyfall</td>\n",
       "      <td>This is the end Hold your breath and count to...</td>\n",
       "    </tr>\n",
       "    <tr>\n",
       "      <th>25</th>\n",
       "      <td>Writing's On The Wall</td>\n",
       "      <td>Sam Smith</td>\n",
       "      <td>Spectre</td>\n",
       "      <td>2015</td>\n",
       "      <td>Sam Smith &amp; Jimmy Napes</td>\n",
       "      <td>writingsonthewall</td>\n",
       "      <td>I've been here before But always hit the floor...</td>\n",
       "    </tr>\n",
       "    <tr>\n",
       "      <th>26</th>\n",
       "      <td>No Time to Die</td>\n",
       "      <td>Billie Eilish</td>\n",
       "      <td>No Time to Die</td>\n",
       "      <td>2021</td>\n",
       "      <td>Billie Eilish &amp; Finneas O'Connell</td>\n",
       "      <td>notimetodie</td>\n",
       "      <td>I should have known I'd leave alone Just goes...</td>\n",
       "    </tr>\n",
       "  </tbody>\n",
       "</table>\n",
       "</div>"
      ],
      "text/plain": [
       "                                     Theme Song  \\\n",
       "0   Kingston Calypso (a.k.a 'Three Blind Mice')   \n",
       "1                              James Bond Theme   \n",
       "2                         From Russia with Love   \n",
       "3                                    Goldfinger   \n",
       "4                                   Thunderball   \n",
       "5                           You Only Live Twice   \n",
       "6             We Have All The Time in the World   \n",
       "7               On Her Majesty's Secret Service   \n",
       "8                          Diamonds Are Forever   \n",
       "9                              Live and Let Die   \n",
       "10                  The Man with the Golden Gun   \n",
       "11                        Nobody Does It Better   \n",
       "12                                    Moonraker   \n",
       "13                           For Your Eyes Only   \n",
       "14                                All Time High   \n",
       "15                             A View to a Kill   \n",
       "16                         The Living Daylights   \n",
       "17                              Licence to Kill   \n",
       "18                                    GoldenEye   \n",
       "19                          Tomorrow Never Dies   \n",
       "20                      The World Is Not Enough   \n",
       "21                              Die Another Day   \n",
       "22                             You Know My Name   \n",
       "23                           Another Way to Die   \n",
       "24                                      Skyfall   \n",
       "25                        Writing's On The Wall   \n",
       "26                               No Time to Die   \n",
       "\n",
       "                        Performer                       Film Title  Year  \\\n",
       "0   Byron Lee and the Dragonaires                           Dr. No  1962   \n",
       "1        Orkest led by John Barry                           Dr. No  1962   \n",
       "2                      Matt Monro            From Russia with Love  1963   \n",
       "3                  Shirley Bassey                       Goldfinger  1964   \n",
       "4                       Tom Jones                      Thunderball  1965   \n",
       "5                   Nancy Sinatra              You Only Live Twice  1967   \n",
       "6                  Louis Amstrong  On Her Majesty's Secret Service  1969   \n",
       "7        Orkest led by John Barry  On Her Majesty's Secret Service  1969   \n",
       "8                  Shirley Bassey             Diamonds Are Forever  1971   \n",
       "9          Paul McCartney & Wings                 Live and Let Die  1973   \n",
       "10                           Lulu      The Man with the Golden Gun  1974   \n",
       "11                    Carly Simon             The Spy Who Loved Me  1977   \n",
       "12                 Shirley Bassey                        Moonraker  1979   \n",
       "13                  Sheena Easton               For Your Eyes Only  1981   \n",
       "14                  Rita Coolidge                        Octopussy  1983   \n",
       "15                    Duran Duran                 A View to a Kill  1985   \n",
       "16                           a-ha             The Living Daylights  1987   \n",
       "17                  Gladys Knight                  Licence to Kill  1989   \n",
       "18                    Tina Turner                        GoldenEye  1995   \n",
       "19                    Sheryl Crow              Tomorrow Never Dies  1997   \n",
       "20                        Garbage          The World Is Not Enough  1999   \n",
       "21                        Madonna                  Die Another Day  2002   \n",
       "22                  Chris Cornell                    Casino Royale  2006   \n",
       "23       Alicia Keys & Jack White                Quantum of Solace  2008   \n",
       "24                          Adele                          Skyfall  2012   \n",
       "25                      Sam Smith                          Spectre  2015   \n",
       "26                  Billie Eilish                   No Time to Die  2021   \n",
       "\n",
       "                                             Composer  \\\n",
       "0                                        Monty Norman   \n",
       "1                                        Monty Norman   \n",
       "2                            John Barry & Lionel Bart   \n",
       "3       John Barry & Anthony Newley & Leslie Bricusse   \n",
       "4                              John Barry & Don Black   \n",
       "5                        John Barry & Leslie Bricusse   \n",
       "6                              John Barry & Hal David   \n",
       "7                                          John Barry   \n",
       "8                              John Barry & Don Black   \n",
       "9                    Paul McCartney & Linda McCartney   \n",
       "10                             John Barry & Don Black   \n",
       "11               Marvin Hamlisch & Carole Bayer Sager   \n",
       "12                             John Barry & Hal David   \n",
       "13                        Bill Conti & Michael Leeson   \n",
       "14               John Barry, Tim Rice & Stephen Short   \n",
       "15                                         John Barry   \n",
       "16                          John Barry & Pål Waaktaar   \n",
       "17  N. Michael Walden, Jeffrey Cohen & Walter Afan...   \n",
       "18                                    Bono & The Edge   \n",
       "19                       Sheryl Crow & Mitchell Froom   \n",
       "20                           David Arnold & Don Black   \n",
       "21                         Madonna & Mirwais Ahmadzaï   \n",
       "22                       David Arnold & Chris Cornell   \n",
       "23                                         Jack White   \n",
       "24                               Adele & Paul Epworth   \n",
       "25                            Sam Smith & Jimmy Napes   \n",
       "26                  Billie Eilish & Finneas O'Connell   \n",
       "\n",
       "                                   links  \\\n",
       "0   kingstoncalypso(a.k.athreeblindmice)   \n",
       "1                         jamesbondtheme   \n",
       "2                     fromrussiawithlove   \n",
       "3                             goldfinger   \n",
       "4                            thunderball   \n",
       "5                       youonlylivetwice   \n",
       "6             wehaveallthetimeintheworld   \n",
       "7             onhermajestyssecretservice   \n",
       "8                     diamondsareforever   \n",
       "9                          liveandletdie   \n",
       "10                themanwiththegoldengun   \n",
       "11                    nobodydoesitbetter   \n",
       "12                             moonraker   \n",
       "13                       foryoureyesonly   \n",
       "14                           alltimehigh   \n",
       "15                          aviewtoakill   \n",
       "16                    thelivingdaylights   \n",
       "17                         licencetokill   \n",
       "18                             goldeneye   \n",
       "19                     tomorrowneverdies   \n",
       "20                   theworldisnotenough   \n",
       "21                         dieanotherday   \n",
       "22                         youknowmyname   \n",
       "23                       anotherwaytodie   \n",
       "24                               skyfall   \n",
       "25                     writingsonthewall   \n",
       "26                           notimetodie   \n",
       "\n",
       "                                               lyrics  \n",
       "0   Three blind mice in a row Three blind mice the...  \n",
       "1                                                      \n",
       "2   From Russia with love I fly to you, much wiser...  \n",
       "3   Goldfinger. He's the man, the man with the mid...  \n",
       "4   He always runs while others walk. He acts whil...  \n",
       "5   You only live twice, Or so it seems. One life ...  \n",
       "6   We have all the time in the world Time enough ...  \n",
       "7                                                      \n",
       "8   Diamonds are forever, They are all I need to p...  \n",
       "9   When You Were Young And Your Heart Was An Open...  \n",
       "10  He has a powerful weapon He charges a million ...  \n",
       "11  Nobody does it better Makes me feel sad for th...  \n",
       "12  Where are you Why do you hide Where is that mo...  \n",
       "13  For your eyes only Can see me through the nigh...  \n",
       "14  All I wanted was a sweet distraction for an ho...  \n",
       "15  Meeting you, with a view to a kill Face to fac...  \n",
       "16  Hey driver, where're we going I swear my nerve...  \n",
       "17  Ooooh Ah-aaah I need, I need, I've got to hold...  \n",
       "18  See reflections on the water more than darknes...  \n",
       "19  Darling I'm kill I'm in puddle on the floor Wa...  \n",
       "20  I know how to hurt I know how to heal I know w...  \n",
       "21  I'm gonna wake up, yes and no I'm gonna kiss s...  \n",
       "22  If you take a life, do you know what you'll gi...  \n",
       "23  (Feat. Alicia Keys) I know the player With the...  \n",
       "24   This is the end Hold your breath and count to...  \n",
       "25  I've been here before But always hit the floor...  \n",
       "26   I should have known I'd leave alone Just goes...  "
      ]
     },
     "execution_count": 81,
     "metadata": {},
     "output_type": "execute_result"
    }
   ],
   "source": [
    "df_lyrics.sort_values([\"Year\"], inplace = True)\n",
    "df_lyrics.reset_index(drop=True, inplace=True)\n",
    "\n",
    "df_lyrics"
   ]
  },
  {
   "cell_type": "markdown",
   "metadata": {},
   "source": [
    "Beautiful! We have our complete data frame with all information about song themes of the James Bond franchise."
   ]
  },
  {
   "cell_type": "markdown",
   "metadata": {},
   "source": [
    "# Conclusions\n",
    "\n",
    "* Through some different examples we showed how to scrape web pages in order to extract the data we need.\n",
    "\n",
    "* With some knowledge of `HTML` with the help of Python packages `requests` and `Beautiful Soup` we are able to retrieve information from the Internet using web scraping.\n",
    "\n",
    "* Inspecting the source code of the webpage is a very important part of the web scraping process. Each web site has its own structure and a good observation shows us which steps are needed to retrieve the information we need.\n",
    "\n",
    "* Some `list comprehension` and `python string methods` are also handy in the process of retrieving information by `web scraping`.\n",
    "\n",
    "* As a data scientist also when web scraping remember to ask yourself if the data you have retrieved make sense. We can obtain a lot of good things on the Internet but also some misleading or incomplete information just like we faced here.\n"
   ]
  }
 ],
 "metadata": {
  "kernelspec": {
   "display_name": "Python 3",
   "language": "python",
   "name": "python3"
  },
  "language_info": {
   "codemirror_mode": {
    "name": "ipython",
    "version": 3
   },
   "file_extension": ".py",
   "mimetype": "text/x-python",
   "name": "python",
   "nbconvert_exporter": "python",
   "pygments_lexer": "ipython3",
   "version": "3.6.10"
  },
  "toc": {
   "base_numbering": 1,
   "nav_menu": {},
   "number_sections": true,
   "sideBar": true,
   "skip_h1_title": false,
   "title_cell": "Table of Contents",
   "title_sidebar": "Contents",
   "toc_cell": true,
   "toc_position": {
    "height": "calc(100% - 180px)",
    "left": "10px",
    "top": "150px",
    "width": "217.2px"
   },
   "toc_section_display": true,
   "toc_window_display": true
  }
 },
 "nbformat": 4,
 "nbformat_minor": 4
}
